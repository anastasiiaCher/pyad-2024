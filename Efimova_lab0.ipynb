{
  "nbformat": 4,
  "nbformat_minor": 0,
  "metadata": {
    "colab": {
      "provenance": [],
      "authorship_tag": "ABX9TyOYp70zq6INHnemrZ2/fdhB",
      "include_colab_link": true
    },
    "kernelspec": {
      "name": "python3",
      "display_name": "Python 3"
    },
    "language_info": {
      "name": "python"
    }
  },
  "cells": [
    {
      "cell_type": "markdown",
      "metadata": {
        "id": "view-in-github",
        "colab_type": "text"
      },
      "source": [
        "<a href=\"https://colab.research.google.com/github/valerieefim/pyad-2024/blob/lab0/Efimova_lab0.ipynb\" target=\"_parent\"><img src=\"https://colab.research.google.com/assets/colab-badge.svg\" alt=\"Open In Colab\"/></a>"
      ]
    },
    {
      "cell_type": "code",
      "source": [
        "import numpy as np\n",
        "import scipy as sc"
      ],
      "metadata": {
        "id": "WUgv8x9e8qHK"
      },
      "execution_count": 2,
      "outputs": []
    },
    {
      "cell_type": "markdown",
      "source": [
        "### Задание 1"
      ],
      "metadata": {
        "id": "T9WLx2If8vcL"
      }
    },
    {
      "cell_type": "markdown",
      "source": [
        "Функция для перемножения матриц с помощью списков и циклов. Вернуть нужно матрицу в формате списка."
      ],
      "metadata": {
        "id": "j4qLcvqA84VE"
      }
    },
    {
      "cell_type": "markdown",
      "source": [
        " Для начала проверим, совпадает ли число столбцов первой матрицы с числом строк второй. Далее – создадим результирующую матрицу в виде списка, в который будем заносить ответы. И перемножим заданные матрицы."
      ],
      "metadata": {
        "id": "4ztHWIaV88e6"
      }
    },
    {
      "cell_type": "code",
      "source": [
        "def matrix_multiplication(matrix_a, matrix_b):\n",
        "\n",
        "    if len(matrix_a[0]) != len(matrix_b):\n",
        "        raise ValueError(\"Несоответствие размеров матриц.\")\n",
        "\n",
        "    result = [[0 for _ in range(len(matrix_b[0]))] for _ in range(len(matrix_a))]\n",
        "\n",
        "    for i in range(len(matrix_a)):\n",
        "        for j in range(len(matrix_b[0])):\n",
        "            for k in range(len(matrix_b)):\n",
        "                result[i][j] += matrix_a[i][k] * matrix_b[k][j]\n",
        "\n",
        "    return result"
      ],
      "metadata": {
        "id": "_HQ_VLbG8tZI"
      },
      "execution_count": 7,
      "outputs": []
    },
    {
      "cell_type": "markdown",
      "source": [
        "### Задание 2"
      ],
      "metadata": {
        "id": "574LkxJ-9Bw9"
      }
    },
    {
      "cell_type": "markdown",
      "source": [
        "На вход поступает две строки, содержащие коэффициенты двух функций. Необходимо найти точки экстремума функции и определить, есть ли у функций общие решения. Вернуть нужно координаты найденных решения списком, если они есть. None, если их бесконечно много."
      ],
      "metadata": {
        "id": "ng9wj6yD9KGu"
      }
    },
    {
      "cell_type": "markdown",
      "source": [
        "Итого нам нужно:\n",
        "- Найти точки экстремума функций. То есть необходимо найти производную функций и решение уравнений, где производная равна 0.\n",
        "\n",
        "- Найти общие решения этих двух функций. То есть нам нужно решить систему уравнений f(x) = g(x), что, соответственно, сводится к решению квадратного уравнения."
      ],
      "metadata": {
        "id": "v5ikZRRh9OtM"
      }
    },
    {
      "cell_type": "code",
      "source": [
        "def functions(a_1, a_2):\n",
        "    coeffs1 = list(map(int, a_1.split()))\n",
        "    coeffs2 = list(map(int, a_2.split()))\n",
        "\n",
        "    a1, b1, c1 = coeffs1\n",
        "    a2, b2, c2 = coeffs2\n",
        "\n",
        "    # на всякий случай проверим, не равны ли коэффициенты функций\n",
        "    if coeffs1 == coeffs2:\n",
        "        return None\n",
        "\n",
        "    # решение уравнения f(x) = g(x) сводится к  a1*x^2 + b1*x + c1 = a2*x^2 + b2*x + c2\n",
        "    # преобразуем ур-ния к виду (a1 - a2)x^2 + (b1 - b2)x + (c1 - c2) = 0\n",
        "    A = a1 - a2\n",
        "    B = b1 - b2\n",
        "    C = c1 - c2\n",
        "\n",
        "    disc = B**2 - 4*A*C\n",
        "\n",
        "    if disc < 0:\n",
        "        return []\n",
        "\n",
        "    elif disc == 0:\n",
        "        x = -B / (2*A)\n",
        "        y = a1*x**2 + b1*x + c1\n",
        "        return [(x, y)]\n",
        "\n",
        "    else:\n",
        "        x1 = (-B + np.sqrt(disc)) / (2*A)\n",
        "        x2 = (-B - np.sqrt(disc)) / (2*A)\n",
        "        y1 = a1*x1**2 + b1*x1 + c1\n",
        "        y2 = a1*x2**2 + b1*x2 + c1\n",
        "        return [(x1, y1), (x2, y2)]\n"
      ],
      "metadata": {
        "id": "Y6a0QbI49E0B"
      },
      "execution_count": 8,
      "outputs": []
    },
    {
      "cell_type": "markdown",
      "source": [
        "### Задание 3"
      ],
      "metadata": {
        "id": "kPpcaafA-qSg"
      }
    },
    {
      "cell_type": "markdown",
      "source": [
        "3.1. Функция для расчета коэффициента асимметрии. Необходимо вернуть значение коэффициента асимметрии, округленное до 2 знаков после запятой."
      ],
      "metadata": {
        "id": "MDgf8Dhi-1iS"
      }
    },
    {
      "cell_type": "code",
      "execution_count": 9,
      "metadata": {
        "id": "58DNR7A-7y6J"
      },
      "outputs": [],
      "source": [
        "def skew(x):\n",
        "    n = len(x)\n",
        "    mean_x = np.mean(x)\n",
        "    std_x = np.std(x, ddof=1)\n",
        "    skewness = (n / ((n - 1) * (n - 2))) * sum(((xi - mean_x) / std_x) ** 3 for xi in x)\n",
        "    return round(skewness, 2)"
      ]
    },
    {
      "cell_type": "markdown",
      "source": [
        "3.2. Функция для расчета коэффициента эксцесса. Необходимо вернуть значение коэффициента эксцесса, округленное до 2 знаков после запятой."
      ],
      "metadata": {
        "id": "xk6l9_DM_LgS"
      }
    },
    {
      "cell_type": "code",
      "source": [
        "def kurtosis(x):\n",
        "    n = len(x)\n",
        "    mean_x = np.mean(x)\n",
        "    std_x = np.std(x, ddof=1)\n",
        "    kurt = ((n * (n + 1)) / ((n - 1) * (n - 2) * (n - 3))) * sum(((xi - mean_x) / std_x) ** 4 for xi in x)\n",
        "    kurt -= (3 * (n - 1) ** 2) / ((n - 2) * (n - 3))\n",
        "    return round(kurt, 2)"
      ],
      "metadata": {
        "id": "1PIeO7xc_QYf"
      },
      "execution_count": 10,
      "outputs": []
    }
  ]
}