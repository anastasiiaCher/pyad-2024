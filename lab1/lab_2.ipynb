{
 "cells": [
  {
   "cell_type": "markdown",
   "metadata": {},
   "source": [
    "PySpark, его зависимости и датасет были установлены локально, поэтому здесь будет только код."
   ]
  },
  {
   "cell_type": "code",
   "execution_count": 15,
   "metadata": {},
   "outputs": [
    {
     "data": {
      "text/html": [
       "\n",
       "            <div>\n",
       "                <p><b>SparkSession - in-memory</b></p>\n",
       "                \n",
       "        <div>\n",
       "            <p><b>SparkContext</b></p>\n",
       "\n",
       "            <p><a href=\"http://192.168.1.70:4040\">Spark UI</a></p>\n",
       "\n",
       "            <dl>\n",
       "              <dt>Version</dt>\n",
       "                <dd><code>v3.5.3</code></dd>\n",
       "              <dt>Master</dt>\n",
       "                <dd><code>local[*]</code></dd>\n",
       "              <dt>AppName</dt>\n",
       "                <dd><code>Our First Spark Example</code></dd>\n",
       "            </dl>\n",
       "        </div>\n",
       "        \n",
       "            </div>\n",
       "        "
      ],
      "text/plain": [
       "<pyspark.sql.session.SparkSession at 0x7f56230c7d00>"
      ]
     },
     "execution_count": 15,
     "metadata": {},
     "output_type": "execute_result"
    }
   ],
   "source": [
    "import os\n",
    "import sys\n",
    "from pyspark.sql.functions import desc, asc\n",
    "\n",
    "import findspark\n",
    "findspark.init()\n",
    "findspark.find()\n",
    "\n",
    "import pyspark\n",
    "\n",
    "from pyspark.sql import DataFrame, SparkSession\n",
    "from typing import List\n",
    "import pyspark.sql.types as T\n",
    "import pyspark.sql.functions as F\n",
    "\n",
    "spark= SparkSession \\\n",
    "       .builder \\\n",
    "       .appName(\"Our First Spark Example\") \\\n",
    "       .getOrCreate()\n",
    "\n",
    "spark"
   ]
  },
  {
   "cell_type": "code",
   "execution_count": 16,
   "metadata": {},
   "outputs": [
    {
     "name": "stderr",
     "output_type": "stream",
     "text": [
      "                                                                                \r"
     ]
    },
    {
     "name": "stdout",
     "output_type": "stream",
     "text": [
      "+----+--------------------+-----------------+-----------------+------+--------------------+---------------+----+--------------------+---------+---------+---------+-------------------+--------+-------------+-------------+---------+--------------+-------------------+\n",
      "|YEAR|             FL_DATE|OP_UNIQUE_CARRIER|ORIGIN_AIRPORT_ID|ORIGIN|    ORIGIN_CITY_NAME|DEST_AIRPORT_ID|DEST|      DEST_CITY_NAME|DEP_DELAY|ARR_DELAY|CANCELLED|ACTUAL_ELAPSED_TIME|DISTANCE|CARRIER_DELAY|WEATHER_DELAY|NAS_DELAY|SECURITY_DELAY|LATE_AIRCRAFT_DELAY|\n",
      "+----+--------------------+-----------------+-----------------+------+--------------------+---------------+----+--------------------+---------+---------+---------+-------------------+--------+-------------+-------------+---------+--------------+-------------------+\n",
      "|2024|1/1/2024 12:00:00 AM|               9E|            10135|   ABE|Allentown/Bethleh...|          10397| ATL|         Atlanta, GA|     -2.0|    -35.0|      0.0|              119.0|   692.0|         NULL|         NULL|     NULL|          NULL|               NULL|\n",
      "|2024|1/1/2024 12:00:00 AM|               9E|            10135|   ABE|Allentown/Bethleh...|          10397| ATL|         Atlanta, GA|      9.0|    -13.0|      0.0|              117.0|   692.0|         NULL|         NULL|     NULL|          NULL|               NULL|\n",
      "|2024|1/1/2024 12:00:00 AM|               9E|            10185|   AEX|      Alexandria, LA|          10397| ATL|         Atlanta, GA|    -11.0|    -26.0|      0.0|               91.0|   500.0|         NULL|         NULL|     NULL|          NULL|               NULL|\n",
      "|2024|1/1/2024 12:00:00 AM|               9E|            10185|   AEX|      Alexandria, LA|          10397| ATL|         Atlanta, GA|     -5.0|    -29.0|      0.0|               86.0|   500.0|         NULL|         NULL|     NULL|          NULL|               NULL|\n",
      "|2024|1/1/2024 12:00:00 AM|               9E|            10208|   AGS|         Augusta, GA|          10397| ATL|         Atlanta, GA|     -4.0|    -23.0|      0.0|               62.0|   143.0|         NULL|         NULL|     NULL|          NULL|               NULL|\n",
      "|2024|1/1/2024 12:00:00 AM|               9E|            10257|   ALB|          Albany, NY|          12953| LGA|        New York, NY|    -10.0|    -43.0|      0.0|               47.0|   136.0|         NULL|         NULL|     NULL|          NULL|               NULL|\n",
      "|2024|1/1/2024 12:00:00 AM|               9E|            10397|   ATL|         Atlanta, GA|          10135| ABE|Allentown/Bethleh...|     -7.0|    -12.0|      0.0|              118.0|   692.0|         NULL|         NULL|     NULL|          NULL|               NULL|\n",
      "|2024|1/1/2024 12:00:00 AM|               9E|            10397|   ATL|         Atlanta, GA|          10135| ABE|Allentown/Bethleh...|     10.0|      8.0|      0.0|              124.0|   692.0|         NULL|         NULL|     NULL|          NULL|               NULL|\n",
      "|2024|1/1/2024 12:00:00 AM|               9E|            10397|   ATL|         Atlanta, GA|          10185| AEX|      Alexandria, LA|     -9.0|    -26.0|      0.0|               98.0|   500.0|         NULL|         NULL|     NULL|          NULL|               NULL|\n",
      "|2024|1/1/2024 12:00:00 AM|               9E|            10397|   ATL|         Atlanta, GA|          10185| AEX|      Alexandria, LA|     -7.0|     -8.0|      0.0|              112.0|   500.0|         NULL|         NULL|     NULL|          NULL|               NULL|\n",
      "|2024|1/1/2024 12:00:00 AM|               9E|            10397|   ATL|         Atlanta, GA|          10208| AGS|         Augusta, GA|      1.0|     -7.0|      0.0|               51.0|   143.0|         NULL|         NULL|     NULL|          NULL|               NULL|\n",
      "|2024|1/1/2024 12:00:00 AM|               9E|            10397|   ATL|         Atlanta, GA|          10408| ATW|        Appleton, WI|    -11.0|    -17.0|      0.0|              136.0|   765.0|         NULL|         NULL|     NULL|          NULL|               NULL|\n",
      "|2024|1/1/2024 12:00:00 AM|               9E|            10397|   ATL|         Atlanta, GA|          10431| AVL|       Asheville, NC|     -4.0|    -17.0|      0.0|               48.0|   164.0|         NULL|         NULL|     NULL|          NULL|               NULL|\n",
      "|2024|1/1/2024 12:00:00 AM|               9E|            10397|   ATL|         Atlanta, GA|          10431| AVL|       Asheville, NC|     -3.0|    -21.0|      0.0|               46.0|   164.0|         NULL|         NULL|     NULL|          NULL|               NULL|\n",
      "|2024|1/1/2024 12:00:00 AM|               9E|            10397|   ATL|         Atlanta, GA|          10685| BMI|Bloomington/Norma...|     -4.0|    -14.0|      0.0|              103.0|   533.0|         NULL|         NULL|     NULL|          NULL|               NULL|\n",
      "|2024|1/1/2024 12:00:00 AM|               9E|            10397|   ATL|         Atlanta, GA|          10685| BMI|Bloomington/Norma...|     15.0|     -1.0|      0.0|               94.0|   533.0|         NULL|         NULL|     NULL|          NULL|               NULL|\n",
      "|2024|1/1/2024 12:00:00 AM|               9E|            10397|   ATL|         Atlanta, GA|          10781| BTR|     Baton Rouge, LA|     -4.0|    -11.0|      0.0|               98.0|   448.0|         NULL|         NULL|     NULL|          NULL|               NULL|\n",
      "|2024|1/1/2024 12:00:00 AM|               9E|            10397|   ATL|         Atlanta, GA|          10980| CHA|     Chattanooga, TN|     -5.0|    -17.0|      0.0|               41.0|   106.0|         NULL|         NULL|     NULL|          NULL|               NULL|\n",
      "|2024|1/1/2024 12:00:00 AM|               9E|            10397|   ATL|         Atlanta, GA|          10980| CHA|     Chattanooga, TN|     -4.0|    -13.0|      0.0|               46.0|   106.0|         NULL|         NULL|     NULL|          NULL|               NULL|\n",
      "|2024|1/1/2024 12:00:00 AM|               9E|            10397|   ATL|         Atlanta, GA|          10990| CHO| Charlottesville, VA|     -5.0|     -9.0|      0.0|               82.0|   457.0|         NULL|         NULL|     NULL|          NULL|               NULL|\n",
      "+----+--------------------+-----------------+-----------------+------+--------------------+---------------+----+--------------------+---------+---------+---------+-------------------+--------+-------------+-------------+---------+--------------+-------------------+\n",
      "only showing top 20 rows\n",
      "\n"
     ]
    }
   ],
   "source": [
    "df = spark.read.csv('T_ONTIME_REPORTING.csv', header=True, inferSchema=True)\n",
    "df = df.union(spark.read.csv('T_ONTIME_REPORTING 2.csv', header=True, inferSchema=True))\n",
    "df = df.union(spark.read.csv('T_ONTIME_REPORTING 3.csv', header=True, inferSchema=True))\n",
    "df = df.union(spark.read.csv('T_ONTIME_REPORTING 4.csv', header=True, inferSchema=True))\n",
    "df = df.union(spark.read.csv('T_ONTIME_REPORTING 5.csv', header=True, inferSchema=True))\n",
    "df = df.union(spark.read.csv('T_ONTIME_REPORTING 6.csv', header=True, inferSchema=True))\n",
    "df = df.union(spark.read.csv('T_ONTIME_REPORTING 7.csv', header=True, inferSchema=True))\n",
    "df = df.union(spark.read.csv('T_ONTIME_REPORTING 8.csv', header=True, inferSchema=True))\n",
    "df = df.union(spark.read.csv('T_ONTIME_REPORTING 9.csv', header=True, inferSchema=True))\n",
    "df = df.union(spark.read.csv('T_ONTIME_REPORTING 10.csv', header=True, inferSchema=True))\n",
    "\n",
    "df.show()"
   ]
  },
  {
   "cell_type": "markdown",
   "metadata": {},
   "source": [
    "Задание 1:\n",
    "\n",
    "    1. Сколько различных перевозчиков представлено в датасете?\n",
    "    2. Какие 5 перевозчиков сделали наибольшее число перелетов?\n"
   ]
  },
  {
   "cell_type": "code",
   "execution_count": 17,
   "metadata": {},
   "outputs": [
    {
     "name": "stderr",
     "output_type": "stream",
     "text": [
      "                                                                                \r"
     ]
    },
    {
     "name": "stdout",
     "output_type": "stream",
     "text": [
      "15\n"
     ]
    },
    {
     "name": "stderr",
     "output_type": "stream",
     "text": [
      "[Stage 624:=================================================>     (72 + 8) / 80]\r"
     ]
    },
    {
     "name": "stdout",
     "output_type": "stream",
     "text": [
      "+-----------------+-------+\n",
      "|OP_UNIQUE_CARRIER|  count|\n",
      "+-----------------+-------+\n",
      "|               WN|1179623|\n",
      "|               DL| 811280|\n",
      "|               AA| 784153|\n",
      "|               UA| 602736|\n",
      "|               OO| 556873|\n",
      "|               YX| 248120|\n",
      "|               B6| 229556|\n",
      "|               NK| 217373|\n",
      "|               AS| 201987|\n",
      "|               MQ| 188775|\n",
      "|               9E| 166489|\n",
      "|               OH| 161577|\n",
      "|               F9| 142600|\n",
      "|               G4|  98120|\n",
      "|               HA|  67208|\n",
      "+-----------------+-------+\n",
      "\n"
     ]
    },
    {
     "name": "stderr",
     "output_type": "stream",
     "text": [
      "                                                                                \r"
     ]
    }
   ],
   "source": [
    "print(df.select(\"OP_UNIQUE_CARRIER\").distinct().count())\n",
    "df.groupBy('OP_UNIQUE_CARRIER').count().orderBy(desc(\"count\")).show()"
   ]
  },
  {
   "cell_type": "markdown",
   "metadata": {},
   "source": [
    "Всего авиакомпаний 15. Больше всего рейсов выполнили Southwest, Delta, American, United и SkyWest (авиакомпания, которой отданы \"на аутсорс\" региональные рейсы Delta, American, United и Alaska)"
   ]
  },
  {
   "cell_type": "markdown",
   "metadata": {},
   "source": [
    "Задание 2. Найдите 10 самых частых направлений, если:\n",
    "\n",
    "    1. Направление – это пара «аэропорт вылета-аэропорт прилета»\n",
    "    2. Направление – это пара «город вылета-город прилета»\n",
    "    3. Направление – это город прилета.\n"
   ]
  },
  {
   "cell_type": "code",
   "execution_count": 18,
   "metadata": {},
   "outputs": [
    {
     "name": "stderr",
     "output_type": "stream",
     "text": [
      "                                                                                \r"
     ]
    },
    {
     "name": "stdout",
     "output_type": "stream",
     "text": [
      "+------+----+-----+\n",
      "|ORIGIN|DEST|count|\n",
      "+------+----+-----+\n",
      "|   OGG| HNL|10504|\n",
      "|   HNL| OGG|10487|\n",
      "|   LAX| SFO| 9631|\n",
      "|   SFO| LAX| 9631|\n",
      "|   LAX| LAS| 8739|\n",
      "|   LAS| LAX| 8715|\n",
      "|   ORD| LGA| 8432|\n",
      "|   LGA| ORD| 8432|\n",
      "|   DCA| BOS| 8306|\n",
      "|   BOS| DCA| 8305|\n",
      "|   JFK| LAX| 8259|\n",
      "|   LAX| JFK| 8255|\n",
      "|   DEN| LAS| 7706|\n",
      "|   LAS| DEN| 7685|\n",
      "|   PHX| DEN| 7681|\n",
      "|   DEN| PHX| 7667|\n",
      "|   ATL| MCO| 7478|\n",
      "|   MCO| ATL| 7478|\n",
      "|   LIH| HNL| 7147|\n",
      "|   HNL| LIH| 7147|\n",
      "+------+----+-----+\n",
      "only showing top 20 rows\n",
      "\n"
     ]
    },
    {
     "name": "stderr",
     "output_type": "stream",
     "text": [
      "                                                                                \r"
     ]
    },
    {
     "name": "stdout",
     "output_type": "stream",
     "text": [
      "+-----------------+-----------------+-----+\n",
      "| ORIGIN_CITY_NAME|   DEST_CITY_NAME|count|\n",
      "+-----------------+-----------------+-----+\n",
      "|      Chicago, IL|     New York, NY|12856|\n",
      "|     New York, NY|      Chicago, IL|12855|\n",
      "|       Boston, MA|     New York, NY|12337|\n",
      "|     New York, NY|       Boston, MA|12318|\n",
      "|      Kahului, HI|     Honolulu, HI|10504|\n",
      "|     Honolulu, HI|      Kahului, HI|10487|\n",
      "|        Miami, FL|     New York, NY| 9711|\n",
      "|     New York, NY|        Miami, FL| 9709|\n",
      "|San Francisco, CA|  Los Angeles, CA| 9631|\n",
      "|  Los Angeles, CA|San Francisco, CA| 9631|\n",
      "|      Atlanta, GA|     New York, NY| 9584|\n",
      "|     New York, NY|      Atlanta, GA| 9582|\n",
      "|   Washington, DC|       Boston, MA| 9484|\n",
      "|       Boston, MA|   Washington, DC| 9481|\n",
      "|   Washington, DC|      Chicago, IL| 9126|\n",
      "|      Chicago, IL|   Washington, DC| 9114|\n",
      "|      Orlando, FL|     New York, NY| 8776|\n",
      "|     New York, NY|      Orlando, FL| 8774|\n",
      "|  Los Angeles, CA|    Las Vegas, NV| 8739|\n",
      "|    Las Vegas, NV|  Los Angeles, CA| 8715|\n",
      "+-----------------+-----------------+-----+\n",
      "only showing top 20 rows\n",
      "\n"
     ]
    },
    {
     "name": "stderr",
     "output_type": "stream",
     "text": [
      "[Stage 633:==================================================>    (73 + 7) / 80]\r"
     ]
    },
    {
     "name": "stdout",
     "output_type": "stream",
     "text": [
      "+--------------------+------+\n",
      "|      DEST_CITY_NAME| count|\n",
      "+--------------------+------+\n",
      "|         Chicago, IL|282723|\n",
      "|         Atlanta, GA|277089|\n",
      "|        New York, NY|247223|\n",
      "|          Denver, CO|237001|\n",
      "|Dallas/Fort Worth...|234809|\n",
      "|       Charlotte, NC|161726|\n",
      "|     Los Angeles, CA|160652|\n",
      "|      Washington, DC|157883|\n",
      "|       Las Vegas, NV|156322|\n",
      "|         Phoenix, AZ|150906|\n",
      "|         Houston, TX|137616|\n",
      "|         Orlando, FL|137357|\n",
      "|         Seattle, WA|133451|\n",
      "|          Boston, MA|115888|\n",
      "|          Newark, NJ|115087|\n",
      "|   San Francisco, CA|111433|\n",
      "|         Detroit, MI|103507|\n",
      "|     Minneapolis, MN|100640|\n",
      "|  Salt Lake City, UT| 90848|\n",
      "|           Miami, FL| 87157|\n",
      "+--------------------+------+\n",
      "only showing top 20 rows\n",
      "\n"
     ]
    },
    {
     "name": "stderr",
     "output_type": "stream",
     "text": [
      "                                                                                \r"
     ]
    }
   ],
   "source": [
    "df.groupBy(['ORIGIN', 'DEST']).count().orderBy(desc(\"count\")).show()\n",
    "\n",
    "df.groupBy(['ORIGIN_CITY_NAME','DEST_CITY_NAME']).count().orderBy(desc(\"count\")).show()\n",
    "\n",
    "df.groupBy('DEST_CITY_NAME').count().orderBy(desc(\"count\")).show()"
   ]
  },
  {
   "cell_type": "markdown",
   "metadata": {},
   "source": [
    "По аэропортам рейтинг такой:\n",
    "\n",
    "1. Кахулуи - Гонолулу. Я не ожидал увидеть на первом месте эту пару городов на Гавайях, но это действительно одна из самых активных воздушных линий в США (по состоянию на 8 ноября 2024 года по данным Flightradar24 сейчас между ними 520 рейсов в неделю), хотя по пассажиропотоку она не входит в десятку самых популярных. Причины попадания этого маршрута сразу на первое место, похоже, две: во-первых, значительная часть рейсов на нём выполняют региональные авиалайнеры Boeing 717 на 123-128 мест, что значительно меньше, чем у более популярных на большинстве маршрутов Boeing 737 и Airbus A320, а тем более широкофюзеляжных самолётов. Во-вторых, между этими островными аэропортами интенсивное грузовое сообщение.\n",
    "\n",
    "2. Сан-Франциско - Лос-Анджелес. Эта пара мегаполисов уже более ожидаемый лидер. По данным Flightradar24 между ними 506 рейсов в неделю.\n",
    "\n",
    "3. Лос-Анджелес - Лас-Вегас (470 рейсов в неделю)\n",
    "\n",
    "4. Нью-Йорк, аэропорт LaGuardia - Чикаго, аэропорт O'Hare (441).\n",
    "\n",
    "5. Вашингтон, аэропорт имени Рейгана - Бостон (387).\n",
    "\n",
    "6. Нью-Йорк, аэропорт имени Кеннеди - Лос-Анджелес (402).\n",
    "\n",
    "7. Денвер - Лас-Вегас (305).\n",
    "\n",
    "8. Денвер - Феникс (379).\n",
    "\n",
    "9. Атланта - Орландо (333).\n",
    "\n",
    "10. Лихуэ - Гонолулу (383).\n",
    "\n",
    "Рейтинг по городам несколько отличается, в первую очередь тем, что выше оказались многие рейсы из Нью-Йорка. Это понятно: в нём два крупных аэропорта: имени Кеннеди (JFK) и LaGuardia (LGA). Кстати, к Нью-Йоркскому авиационному узлу относят и аэропорт Ньюарка (EWR), но в этом датасете ему поставили отдельный город.\n"
   ]
  },
  {
   "cell_type": "markdown",
   "metadata": {},
   "source": [
    "Задание 3.\n",
    "    \n",
    "    1. Узнайте, сколько было отмен рейсов в каждом месяце. Отсортируйте ответ по числу отмен.\n",
    "    2. Для каждого месяца определите причину задержки, из-за которой было отложено больше всего рейсов.\n"
   ]
  },
  {
   "cell_type": "code",
   "execution_count": 19,
   "metadata": {},
   "outputs": [
    {
     "name": "stdout",
     "output_type": "stream",
     "text": [
      "CANCELLED\n"
     ]
    },
    {
     "name": "stderr",
     "output_type": "stream",
     "text": [
      "                                                                                \r"
     ]
    },
    {
     "name": "stdout",
     "output_type": "stream",
     "text": [
      "+-----+-----+\n",
      "|MONTH|count|\n",
      "+-----+-----+\n",
      "|    1|30684|\n",
      "|    7|14606|\n",
      "|    6|12219|\n",
      "|    4| 9589|\n",
      "|    8| 9172|\n",
      "|    2| 9019|\n",
      "|    3| 7406|\n",
      "|    5| 3310|\n",
      "|   11|  819|\n",
      "+-----+-----+\n",
      "\n",
      "CARRIER_DELAY\n"
     ]
    },
    {
     "name": "stderr",
     "output_type": "stream",
     "text": [
      "                                                                                \r"
     ]
    },
    {
     "name": "stdout",
     "output_type": "stream",
     "text": [
      "+-----+------+\n",
      "|MONTH| count|\n",
      "+-----+------+\n",
      "|    1|129636|\n",
      "|    2| 52610|\n",
      "|    3| 74965|\n",
      "|    4| 71710|\n",
      "|    5| 62261|\n",
      "|    6| 87780|\n",
      "|    7| 96439|\n",
      "|    8| 73114|\n",
      "|   11| 44524|\n",
      "+-----+------+\n",
      "\n",
      "WEATHER_DELAY\n"
     ]
    },
    {
     "name": "stderr",
     "output_type": "stream",
     "text": [
      "                                                                                \r"
     ]
    },
    {
     "name": "stdout",
     "output_type": "stream",
     "text": [
      "+-----+-----+\n",
      "|MONTH|count|\n",
      "+-----+-----+\n",
      "|    1|18789|\n",
      "|    2| 4823|\n",
      "|    3| 6096|\n",
      "|    4| 6417|\n",
      "|    5| 4548|\n",
      "|    6|10342|\n",
      "|    7|11844|\n",
      "|    8| 7487|\n",
      "|   11| 2352|\n",
      "+-----+-----+\n",
      "\n",
      "NAS_DELAY\n"
     ]
    },
    {
     "name": "stderr",
     "output_type": "stream",
     "text": [
      "                                                                                \r"
     ]
    },
    {
     "name": "stdout",
     "output_type": "stream",
     "text": [
      "+-----+------+\n",
      "|MONTH| count|\n",
      "+-----+------+\n",
      "|    1|126034|\n",
      "|    2| 44984|\n",
      "|    3| 69852|\n",
      "|    4| 61757|\n",
      "|    5| 46664|\n",
      "|    6| 72627|\n",
      "|    7| 76597|\n",
      "|    8| 56251|\n",
      "|   11| 37858|\n",
      "+-----+------+\n",
      "\n",
      "SECURITY_DELAY\n"
     ]
    },
    {
     "name": "stderr",
     "output_type": "stream",
     "text": [
      "                                                                                \r"
     ]
    },
    {
     "name": "stdout",
     "output_type": "stream",
     "text": [
      "+-----+-----+\n",
      "|MONTH|count|\n",
      "+-----+-----+\n",
      "|    1| 1490|\n",
      "|    2|  438|\n",
      "|    3|  770|\n",
      "|    4|  735|\n",
      "|    5|  602|\n",
      "|    6|  899|\n",
      "|    7|  793|\n",
      "|    8|  836|\n",
      "|   11|  625|\n",
      "+-----+-----+\n",
      "\n",
      "LATE_AIRCRAFT_DELAY\n"
     ]
    },
    {
     "name": "stderr",
     "output_type": "stream",
     "text": [
      "[Stage 651:===================================================>   (75 + 5) / 80]\r"
     ]
    },
    {
     "name": "stdout",
     "output_type": "stream",
     "text": [
      "+-----+------+\n",
      "|MONTH| count|\n",
      "+-----+------+\n",
      "|    1|117568|\n",
      "|    2| 43114|\n",
      "|    3| 68718|\n",
      "|    4| 66115|\n",
      "|    5| 53539|\n",
      "|    6| 83859|\n",
      "|    7| 94432|\n",
      "|    8| 69059|\n",
      "|   11| 35910|\n",
      "+-----+------+\n",
      "\n"
     ]
    },
    {
     "name": "stderr",
     "output_type": "stream",
     "text": [
      "                                                                                \r"
     ]
    }
   ],
   "source": [
    "from pyspark.sql.functions import split, when, col\n",
    "\n",
    "col_split = split(df[\"FL_DATE\"], '/')\n",
    "df = df.withColumn(\"MONTH\", col_split.getItem(0))\n",
    "print(\"CANCELLED\")\n",
    "df.filter(col(\"CANCELLED\") == 1).groupBy(\"MONTH\").count().orderBy(desc(\"count\")).show()\n",
    "for reason in [\"CARRIER_DELAY\", \"WEATHER_DELAY\", \"NAS_DELAY\", \"SECURITY_DELAY\", \"LATE_AIRCRAFT_DELAY\"]:\n",
    "    print(reason)\n",
    "    df.filter(col(reason) > 0 ).groupBy(\"MONTH\").count().show()"
   ]
  },
  {
   "cell_type": "markdown",
   "metadata": {},
   "source": [
    "Во всех месяцах больше всего рейсов было задержано по вине авиакомпаний."
   ]
  },
  {
   "cell_type": "markdown",
   "metadata": {},
   "source": [
    "Задание 4. \n",
    "\n",
    "Создайте и обучите модель логистической регрессии для предсказания отмены рейса."
   ]
  },
  {
   "cell_type": "code",
   "execution_count": 20,
   "metadata": {},
   "outputs": [
    {
     "name": "stderr",
     "output_type": "stream",
     "text": [
      "                                                                                \r"
     ]
    },
    {
     "name": "stdout",
     "output_type": "stream",
     "text": [
      "LogisticRegressionModel: uid=LogisticRegression_56da53744566, numClasses=2, numFeatures=712\n"
     ]
    },
    {
     "name": "stderr",
     "output_type": "stream",
     "text": [
      "                                                                                \r"
     ]
    },
    {
     "name": "stdout",
     "output_type": "stream",
     "text": [
      "0.6662499823805227\n"
     ]
    }
   ],
   "source": [
    "from pyspark.sql.types import IntegerType\n",
    "df=df.withColumn(\"MONTH\", df[\"MONTH\"].cast(IntegerType()))\n",
    "\n",
    "from pyspark.ml.feature import StringIndexer, OneHotEncoder\n",
    "\n",
    "carr_indexer = StringIndexer(inputCol=\"OP_UNIQUE_CARRIER\", outputCol=\"carrier_index\")\n",
    "carr_encoder = OneHotEncoder(inputCol=\"carrier_index\", outputCol=\"carrier_fact\")\n",
    "\n",
    "origin_indexer = StringIndexer(inputCol=\"ORIGIN\", outputCol=\"origin_index\")\n",
    "origin_encoder = OneHotEncoder(inputCol=\"origin_index\", outputCol=\"origin_fact\")\n",
    "\n",
    "dest_indexer = StringIndexer(inputCol=\"DEST\", outputCol=\"dest_index\")\n",
    "dest_encoder = OneHotEncoder(inputCol=\"dest_index\", outputCol=\"dest_fact\")\n",
    "\n",
    "df = df.withColumn(\"label\", df.CANCELLED)\n",
    "\n",
    "from pyspark.ml.feature import VectorAssembler\n",
    "\n",
    "vec_assembler = VectorAssembler(inputCols=[\"MONTH\", \"DISTANCE\", \"carrier_fact\", \"dest_fact\", \"origin_fact\"], outputCol=\"features\")\n",
    "\n",
    "from pyspark.ml import Pipeline\n",
    "\n",
    "flights_pipe = Pipeline(stages=[dest_indexer, dest_encoder, carr_indexer, carr_encoder, origin_indexer, origin_encoder, vec_assembler])\n",
    "\n",
    "piped_data = flights_pipe.fit(df).transform(df)\n",
    "\n",
    "training, test = piped_data.randomSplit([.7, .3])\n",
    "\n",
    "from pyspark.ml.classification import LogisticRegression\n",
    "\n",
    "lr = LogisticRegression()\n",
    "\n",
    "import pyspark.ml.evaluation as evals\n",
    "\n",
    "evaluator = evals.BinaryClassificationEvaluator(metricName=\"areaUnderROC\")\n",
    "\n",
    "model = lr.fit(training)\n",
    "print(model)\n",
    "\n",
    "test_results = model.transform(test)\n",
    "print(evaluator.evaluate(test_results))"
   ]
  },
  {
   "cell_type": "markdown",
   "metadata": {},
   "source": [
    "    1. Повысится ли качество, если не использовать данные о пункте вылета?\n",
    "    2. Повысится ли качество, если не использовать данные о пункте прилета?\n",
    "    3. Повысится ли качество, если не использовать данные о перевозчике?\n",
    "    4. Повысится ли качество, если не использовать данные о месяце перелета?\n",
    "    5. Повысится ли качество, если задать направление полета иначе (см. задание 2)?"
   ]
  },
  {
   "cell_type": "code",
   "execution_count": 21,
   "metadata": {},
   "outputs": [
    {
     "name": "stderr",
     "output_type": "stream",
     "text": [
      "                                                                                \r"
     ]
    },
    {
     "name": "stdout",
     "output_type": "stream",
     "text": [
      "LogisticRegressionModel: uid=LogisticRegression_56da53744566, numClasses=2, numFeatures=712\n"
     ]
    },
    {
     "name": "stderr",
     "output_type": "stream",
     "text": [
      "[Stage 934:================================================>      (71 + 8) / 80]\r"
     ]
    },
    {
     "name": "stdout",
     "output_type": "stream",
     "text": [
      "0.665395675541518\n"
     ]
    },
    {
     "name": "stderr",
     "output_type": "stream",
     "text": [
      "                                                                                \r"
     ]
    }
   ],
   "source": [
    "vec_assembler2 = VectorAssembler(inputCols=[\"MONTH\", \"DISTANCE\", \"carrier_fact\", \"origin_fact\"], outputCol=\"features\")\n",
    "\n",
    "flights_pipe2 = Pipeline(stages=[origin_indexer, origin_encoder, carr_indexer, carr_encoder, vec_assembler2])\n",
    "\n",
    "piped_data2 = flights_pipe2.fit(df).transform(df)\n",
    "\n",
    "training1, test1 = piped_data.randomSplit([.7, .3])\n",
    "\n",
    "model1 = lr.fit(training1)\n",
    "print(model1)\n",
    "\n",
    "test_results1 = model1.transform(test1)\n",
    "print(evaluator.evaluate(test_results1))"
   ]
  },
  {
   "cell_type": "code",
   "execution_count": 22,
   "metadata": {},
   "outputs": [
    {
     "name": "stderr",
     "output_type": "stream",
     "text": [
      "                                                                                \r"
     ]
    },
    {
     "name": "stdout",
     "output_type": "stream",
     "text": [
      "LogisticRegressionModel: uid=LogisticRegression_56da53744566, numClasses=2, numFeatures=712\n"
     ]
    },
    {
     "name": "stderr",
     "output_type": "stream",
     "text": [
      "                                                                                \r"
     ]
    },
    {
     "name": "stdout",
     "output_type": "stream",
     "text": [
      "0.6669713832159099\n"
     ]
    }
   ],
   "source": [
    "vec_assembler2 = VectorAssembler(inputCols=[\"MONTH\", \"DISTANCE\", \"carrier_fact\", \"dest_fact\"], outputCol=\"features\")\n",
    "\n",
    "flights_pipe2 = Pipeline(stages=[dest_indexer, dest_encoder, carr_indexer, carr_encoder, vec_assembler2])\n",
    "\n",
    "piped_data2 = flights_pipe2.fit(df).transform(df)\n",
    "\n",
    "training2, test2 = piped_data.randomSplit([.7, .3])\n",
    "\n",
    "model2 = lr.fit(training2)\n",
    "print(model2)\n",
    "\n",
    "test_results2 = model2.transform(test2)\n",
    "print(evaluator.evaluate(test_results2))"
   ]
  },
  {
   "cell_type": "code",
   "execution_count": 23,
   "metadata": {},
   "outputs": [
    {
     "name": "stderr",
     "output_type": "stream",
     "text": [
      "                                                                                \r"
     ]
    },
    {
     "name": "stdout",
     "output_type": "stream",
     "text": [
      "LogisticRegressionModel: uid=LogisticRegression_56da53744566, numClasses=2, numFeatures=712\n"
     ]
    },
    {
     "name": "stderr",
     "output_type": "stream",
     "text": [
      "                                                                                \r"
     ]
    },
    {
     "name": "stdout",
     "output_type": "stream",
     "text": [
      "0.6671393461011693\n"
     ]
    }
   ],
   "source": [
    "vec_assembler3 = VectorAssembler(inputCols=[\"MONTH\", \"DISTANCE\", \"origin_fact\", \"dest_fact\"], outputCol=\"features\")\n",
    "\n",
    "flights_pipe3 = Pipeline(stages=[dest_indexer, dest_encoder, origin_indexer, origin_encoder, vec_assembler3])\n",
    "\n",
    "piped_data3 = flights_pipe3.fit(df).transform(df)\n",
    "\n",
    "training3, test3 = piped_data.randomSplit([.7, .3])\n",
    "\n",
    "model3 = lr.fit(training3)\n",
    "print(model3)\n",
    "\n",
    "test_results3= model3.transform(test3)\n",
    "print(evaluator.evaluate(test_results3))"
   ]
  },
  {
   "cell_type": "code",
   "execution_count": 24,
   "metadata": {},
   "outputs": [
    {
     "name": "stderr",
     "output_type": "stream",
     "text": [
      "                                                                                \r"
     ]
    },
    {
     "name": "stdout",
     "output_type": "stream",
     "text": [
      "LogisticRegressionModel: uid=LogisticRegression_56da53744566, numClasses=2, numFeatures=712\n"
     ]
    },
    {
     "name": "stderr",
     "output_type": "stream",
     "text": [
      "                                                                                \r"
     ]
    },
    {
     "name": "stdout",
     "output_type": "stream",
     "text": [
      "0.6651633599726318\n"
     ]
    }
   ],
   "source": [
    "vec_assembler4 = VectorAssembler(inputCols=[ \"DISTANCE\", \"carrier_fact\", \"dest_fact\", \"origin_fact\"], outputCol=\"features\")\n",
    "\n",
    "flights_pipe4 = Pipeline(stages=[dest_indexer, dest_encoder, carr_indexer, carr_encoder, origin_indexer, origin_encoder, vec_assembler4])\n",
    "\n",
    "piped_data4 = flights_pipe4.fit(df).transform(df)\n",
    "\n",
    "training4, test4 = piped_data.randomSplit([.7, .3])\n",
    "\n",
    "model4 = lr.fit(training4)\n",
    "print(model4)\n",
    "\n",
    "test_results4 = model4.transform(test4)\n",
    "print(evaluator.evaluate(test_results4))"
   ]
  },
  {
   "cell_type": "markdown",
   "metadata": {},
   "source": [
    "Этого в задании нет, но из любопытства стоит проверить, что будет, если убрать расстояние:"
   ]
  },
  {
   "cell_type": "code",
   "execution_count": 25,
   "metadata": {},
   "outputs": [
    {
     "name": "stderr",
     "output_type": "stream",
     "text": [
      "                                                                                \r"
     ]
    },
    {
     "name": "stdout",
     "output_type": "stream",
     "text": [
      "LogisticRegressionModel: uid=LogisticRegression_56da53744566, numClasses=2, numFeatures=712\n"
     ]
    },
    {
     "name": "stderr",
     "output_type": "stream",
     "text": [
      "                                                                                \r"
     ]
    },
    {
     "name": "stdout",
     "output_type": "stream",
     "text": [
      "0.6658759298222223\n"
     ]
    }
   ],
   "source": [
    "vec_assembler5 = VectorAssembler(inputCols=[ \"MONTH\", \"carrier_fact\", \"dest_fact\", \"origin_fact\"], outputCol=\"features\")\n",
    "\n",
    "flights_pipe5 = Pipeline(stages=[dest_indexer, dest_encoder, carr_indexer, carr_encoder, origin_indexer, origin_encoder, vec_assembler5])\n",
    "\n",
    "piped_data5 = flights_pipe5.fit(df).transform(df)\n",
    "\n",
    "training5, test5 = piped_data.randomSplit([.7, .3])\n",
    "\n",
    "model5 = lr.fit(training5)\n",
    "print(model5)\n",
    "\n",
    "test_results5 = model5.transform(test5)\n",
    "print(evaluator.evaluate(test_results5))"
   ]
  },
  {
   "cell_type": "markdown",
   "metadata": {},
   "source": [
    "От удаления переменных результат значительно не меняется. \n",
    "Теперь попробуем задавать направление через города, а не аэропорты:"
   ]
  },
  {
   "cell_type": "code",
   "execution_count": 26,
   "metadata": {
    "vscode": {
     "languageId": "javascript"
    }
   },
   "outputs": [
    {
     "name": "stderr",
     "output_type": "stream",
     "text": [
      "                                                                                \r"
     ]
    },
    {
     "name": "stdout",
     "output_type": "stream",
     "text": [
      "LogisticRegressionModel: uid=LogisticRegression_56da53744566, numClasses=2, numFeatures=700\n"
     ]
    },
    {
     "name": "stderr",
     "output_type": "stream",
     "text": [
      "                                                                                \r"
     ]
    },
    {
     "name": "stdout",
     "output_type": "stream",
     "text": [
      "0.6670895973089321\n"
     ]
    }
   ],
   "source": [
    "origin_city_indexer = StringIndexer(inputCol=\"ORIGIN_CITY_NAME\", outputCol=\"origin_city_index\")\n",
    "origin_city_encoder = OneHotEncoder(inputCol=\"origin_city_index\", outputCol=\"origin_city_fact\")\n",
    "\n",
    "dest_city_indexer = StringIndexer(inputCol=\"DEST_CITY_NAME\", outputCol=\"dest_city_index\")\n",
    "dest_city_encoder = OneHotEncoder(inputCol=\"dest_city_index\", outputCol=\"dest_city_fact\")\n",
    "\n",
    "vec_assembler6 = VectorAssembler(inputCols=[\"MONTH\", \"DISTANCE\", \"carrier_fact\", \"dest_city_fact\", \"origin_city_fact\"], outputCol=\"features\")\n",
    "\n",
    "flights_pipe6 = Pipeline(stages=[dest_city_indexer, dest_city_encoder, carr_indexer, carr_encoder, origin_city_indexer, origin_city_encoder, vec_assembler6])\n",
    "\n",
    "piped_data6 = flights_pipe6.fit(df).transform(df)\n",
    "\n",
    "training6, test6 = piped_data6.randomSplit([.7, .3])\n",
    "\n",
    "model6 = lr.fit(training6)\n",
    "print(model6)\n",
    "\n",
    "test_results6 = model6.transform(test6)\n",
    "print(evaluator.evaluate(test_results6))"
   ]
  },
  {
   "cell_type": "markdown",
   "metadata": {},
   "source": [
    "Результат всё ещё на уровне 2 из 3."
   ]
  }
 ],
 "metadata": {
  "kernelspec": {
   "display_name": "Python 3",
   "language": "python",
   "name": "python3"
  },
  "language_info": {
   "codemirror_mode": {
    "name": "ipython",
    "version": 3
   },
   "file_extension": ".py",
   "mimetype": "text/x-python",
   "name": "python",
   "nbconvert_exporter": "python",
   "pygments_lexer": "ipython3",
   "version": "3.8.10"
  }
 },
 "nbformat": 4,
 "nbformat_minor": 2
}
