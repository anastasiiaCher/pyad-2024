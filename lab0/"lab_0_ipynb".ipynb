{
  "nbformat": 4,
  "nbformat_minor": 0,
  "metadata": {
    "colab": {
      "provenance": []
    },
    "kernelspec": {
      "name": "python3",
      "display_name": "Python 3"
    },
    "language_info": {
      "name": "python"
    }
  },
  "cells": [
    {
      "cell_type": "markdown",
      "source": [
        "### Задача 1 – Умножение матриц"
      ],
      "metadata": {
        "id": "Rbr-ll62IIsZ"
      }
    },
    {
      "cell_type": "markdown",
      "source": [
        "Напишите функцию для умножения матриц, используя только списки и циклы.\n",
        "\n",
        "Не забывайте проверить, что умножение выполнить возможно.\n",
        "Напомним, что две матрицы могут быть перемножены, если число столбцов первой матрицы равно числу строк второй матрицы. Если матрица\n",
        "$A$ имеет размер $m×n$ ($m$ строк и $nя$ столбцов), а матрица $B$ имеет размер $n×p$, то их произведение $C=AB$ будет иметь размер $m×p$.\n",
        "\n",
        "Если $A=(a_{ij})$ — матрица размера $m×n$, а $B=(b_{jk})$ — матрица размера $n×p$, то элемент $c_{ik}$ матрицы $C=AB$ вычисляется по формуле:\n",
        "\n",
        "$$c_{ik}=\\sum_{j=1}^{n}a_{ij}b_{jk}$$\n",
        "\n",
        "То есть каждый элемент новой матрицы является суммой произведений соответствующих элементов строки первой матрицы и столбца второй."
      ],
      "metadata": {
        "id": "8INa2MESLZ4O"
      }
    },
    {
      "cell_type": "code",
      "source": [
        "import numpy as np\n",
        "\n",
        "matrix1 = np.array([[1, 2, 3], [4, 5, 6], [7, 8, 9]])\n",
        "matrix2 = np.array([[9, 8, 7], [6, 5, 4], [3, 2, 1]])\n",
        "\n",
        "print(\"Произведение матриц:\")\n",
        "matrix1 @ matrix2"
      ],
      "metadata": {
        "colab": {
          "base_uri": "https://localhost:8080/"
        },
        "id": "LS0_ikIHtvmt",
        "outputId": "80a11232-5f24-4bf1-da69-238a01e64b61"
      },
      "execution_count": null,
      "outputs": [
        {
          "output_type": "stream",
          "name": "stdout",
          "text": [
            "Произведение матриц:\n"
          ]
        },
        {
          "output_type": "execute_result",
          "data": {
            "text/plain": [
              "array([[ 30,  24,  18],\n",
              "       [ 84,  69,  54],\n",
              "       [138, 114,  90]])"
            ]
          },
          "metadata": {},
          "execution_count": 2
        }
      ]
    },
    {
      "cell_type": "code",
      "source": [
        "A = ([[1, 2, 3], [4, 5, 6], [7, 8, 9]])\n",
        "B = ([[9, 8, 7], [6, 5, 4], [3, 2, 1]])"
      ],
      "metadata": {
        "id": "g-IRBqQEQwno"
      },
      "execution_count": null,
      "outputs": []
    },
    {
      "cell_type": "code",
      "source": [
        "def multiply_matrices(A, B):\n",
        "    if len(A[0]) != len(B):\n",
        "        raise ValueError(\"Матрицы нельзя перемножить\")\n",
        "\n",
        "    result = [[0 for _ in range(len(B[0]))] for _ in range(len(A))]\n",
        "\n",
        "    # Перемножение матриц\n",
        "    for i in range(len(A)):\n",
        "        for k in range(len(B[0])):\n",
        "            for j in range(len(B)):\n",
        "                result[i][k] += A[i][j] * B[j][k]\n",
        "\n",
        "    return result"
      ],
      "metadata": {
        "id": "abrXfBkIPfkA"
      },
      "execution_count": null,
      "outputs": []
    },
    {
      "cell_type": "code",
      "source": [
        "result = multiply_matrices(A, B)\n",
        "for row in result:\n",
        "    print(row)"
      ],
      "metadata": {
        "colab": {
          "base_uri": "https://localhost:8080/"
        },
        "id": "DM3Nshf1P2ip",
        "outputId": "4838abf6-d119-4519-bfa4-d4ae8e2c0f72"
      },
      "execution_count": null,
      "outputs": [
        {
          "output_type": "stream",
          "name": "stdout",
          "text": [
            "[30, 24, 18]\n",
            "[84, 69, 54]\n",
            "[138, 114, 90]\n"
          ]
        }
      ]
    },
    {
      "cell_type": "markdown",
      "source": [
        "### Задача 2 – Функции"
      ],
      "metadata": {
        "id": "j73IJuxjISV3"
      }
    },
    {
      "cell_type": "markdown",
      "metadata": {
        "id": "zxRIdPO9gYyX"
      },
      "source": [
        "Дано две функции:\n",
        "\n",
        "\\begin{matrix} F(x) = a_{11}x^2 + a_{12}x + a_{13}&(1) \\\\ P(x) = a_{21}x^2+a_{22}x + a_{23} &(2) \\end{matrix}\n",
        "​\n",
        "* На вход программа должна принимать 2 строки. Каждая строка содержит 3 действительных числа через пробел: коэффициенты $a$.\n",
        "* Необходимо найти точки экстремума функций (например, через функцию [`minimize_scalar()`](https://docs.scipy.org/doc/scipy/reference/generated/scipy.optimize.minimize_scalar.html), [`fmin()`](https://docs.scipy.org/doc/scipy/reference/generated/scipy.optimize.fmin.html) и др.) и определить, есть ли у функций общие решения при введенных коэффициентах на некотором диапазоне значений $x$, предусмотрев ситуации, когда решения есть, решений нет и решений бесконечно много.\n"
      ]
    },
    {
      "cell_type": "code",
      "source": [
        "import numpy as np\n",
        "from scipy.optimize import minimize_scalar\n"
      ],
      "metadata": {
        "id": "bOYFj9hnRinC"
      },
      "execution_count": null,
      "outputs": []
    },
    {
      "cell_type": "markdown",
      "source": [
        "Функции для нахождения экстремума\n"
      ],
      "metadata": {
        "id": "l2bBb27IRpoC"
      }
    },
    {
      "cell_type": "code",
      "source": [
        "def F(x, a11, a12, a13):\n",
        "    return a11 * x**2 + a12 * x + a13\n",
        "\n",
        "def P(x, a21, a22, a23):\n",
        "    return a21 * x**2 + a22 * x + a23"
      ],
      "metadata": {
        "id": "Eil1TYUiRlci"
      },
      "execution_count": null,
      "outputs": []
    },
    {
      "cell_type": "code",
      "source": [
        "a1 = list(map(float, input(\"Введите коэффициенты для функции F(x): \").split()))\n",
        "a2 = list(map(float, input(\"Введите коэффициенты для функции P(x): \").split()))"
      ],
      "metadata": {
        "colab": {
          "base_uri": "https://localhost:8080/"
        },
        "id": "-hgSyuLbR_HS",
        "outputId": "6c7bc1ac-6d45-400c-dabc-e60c4f7031ff"
      },
      "execution_count": null,
      "outputs": [
        {
          "name": "stdout",
          "output_type": "stream",
          "text": [
            "Введите коэффициенты для функции F(x): 1 -3 2\n",
            "Введите коэффициенты для функции P(x): 1 -2 1\n"
          ]
        }
      ]
    },
    {
      "cell_type": "code",
      "source": [
        "res_F = minimize_scalar(F, args=(a1[0], a1[1], a1[2]))\n",
        "res_P = minimize_scalar(P, args=(a2[0], a2[1], a2[2]))\n"
      ],
      "metadata": {
        "id": "8FMO9xMESEQ_"
      },
      "execution_count": null,
      "outputs": []
    },
    {
      "cell_type": "code",
      "source": [
        "print(f\"Экстремум функции F(x): x = {res_F.x}, значение = {res_F.fun}\")\n",
        "print(f\"Экстремум функции P(x): x = {res_P.x}, значение = {res_P.fun}\")"
      ],
      "metadata": {
        "colab": {
          "base_uri": "https://localhost:8080/"
        },
        "id": "t0Oi-J4pSG44",
        "outputId": "cc5d2be8-56a9-4a16-894d-99013bc58ccd"
      },
      "execution_count": null,
      "outputs": [
        {
          "output_type": "stream",
          "name": "stdout",
          "text": [
            "Экстремум функции F(x): x = 1.4999999999999998, значение = -0.24999999999999956\n",
            "Экстремум функции P(x): x = 1.0, значение = 0.0\n"
          ]
        }
      ]
    },
    {
      "cell_type": "markdown",
      "source": [
        "Ищем точки пересечения функций F(x) = P(x)"
      ],
      "metadata": {
        "id": "9D2907qbSJq-"
      }
    },
    {
      "cell_type": "code",
      "source": [
        "coeff_diff = [a1[0] - a2[0], a1[1] - a2[1], a1[2] - a2[2]]\n",
        "roots = np.roots(coeff_diff)\n",
        "\n",
        "if len(roots) == 0:\n",
        "    print(\"Общих решений нет.\")\n",
        "elif len(roots) == 1:\n",
        "    print(f\"Общее решение: x = {roots[0]}\")\n",
        "else:\n",
        "    print(f\"Общие решения: x1 = {roots[0]}, x2 = {roots[1]}\")\n"
      ],
      "metadata": {
        "colab": {
          "base_uri": "https://localhost:8080/"
        },
        "id": "8s8_mW7-SNbp",
        "outputId": "d00e25ea-1b5a-424f-d776-4fe2ffffff7f"
      },
      "execution_count": null,
      "outputs": [
        {
          "output_type": "stream",
          "name": "stdout",
          "text": [
            "Общее решение: x = 1.0\n"
          ]
        }
      ]
    },
    {
      "cell_type": "code",
      "source": [
        "if all(np.isclose(coeff, 0) for coeff in coeff_diff):\n",
        "    print(\"Решений бесконечно много.\")"
      ],
      "metadata": {
        "id": "XtUWlUbzSQo-"
      },
      "execution_count": null,
      "outputs": []
    },
    {
      "cell_type": "markdown",
      "source": [
        "### Задача 3 – Коэффициент асимметрии и эксцесса"
      ],
      "metadata": {
        "id": "85rPnAsNP4DJ"
      }
    },
    {
      "cell_type": "markdown",
      "source": [
        "Напишите функцию, которая для случайной выборки рассчитывает коэффициенты асимметрии и эксцесса.\n",
        "\n",
        "Коэффициент асимметрии:\n",
        "\n",
        "$$A_3=\\frac{m_3}{\\sigma^3}$$\n",
        "\n",
        "Коэффициент эксцесса:\n",
        "\n",
        "$$E_4=\\frac{m_4}{\\sigma^4}-3$$\n",
        "\n",
        "С помощью этих коэффициентов можно прикинуть, насколько близко распределение выборки к нормальному. Для расчета этих коэффициентов понадобится рассчитать центральные моменты третьего ($m_3$) и четвертого ($m_4$) порядка. Основные формулы, которые понадобятся для расчетов:\n",
        "1. Момент второго порядка (он же – дисперсия):\n",
        "$$m_2=D_e=\\frac{∑(x_i-\\overline{x_e})^2\\times n_i}{n}$$\n",
        "2. Момент третьего порядка:\n",
        "$$m_3=\\frac{∑(x_i-\\overline{x_e})^3\\times n_i}{n}$$\n",
        "3. Момент четвертого порядка:\n",
        "$$m_4=\\frac{∑(x_i-\\overline{x_e})^4\\times n_i}{n}$$\n",
        "\n",
        "В формулах выше $\\overline{x_e}$ – это выборочное среднее.\n",
        "$$\\overline{x_e}=\\frac{∑(x_i\\times n_i)}{n},$$\n",
        "где $x_i$ – $i$-е значение из выборки, $n_i$ – число раз, когда $x_i$ встретилось в выборке, $n$ – объем выборки.\n",
        "\n",
        "\n",
        "Проверить корректность расчетов можно с помощью функции [`kurtosis`](https://docs.scipy.org/doc/scipy/reference/generated/scipy.stats.kurtosis.html) для коэффициента эксцесса и функции [`skew`](https://docs.scipy.org/doc/scipy/reference/generated/scipy.stats.kurtosis.html) из `scipy`."
      ],
      "metadata": {
        "id": "ECIdYeJwcVDB"
      }
    },
    {
      "cell_type": "markdown",
      "source": [
        "**Коэффициент асимметрии** количественно определяет степень асимметрии распределения. Он показывает, в какую сторону распределение скошено относительно своего среднего значения.\n",
        "\n",
        "1. Если коэффициент асимметрии больше 0, это означает, что \"длинная часть\" распределения находится справа от среднего (правостороннее распределение). Это может указывать на наличие выбросов или значений, превышающих среднее.\n",
        "2. Если коэффициент меньше 0, \"длинная часть\" находится слева от среднего (левостороннее распределение). Это может свидетельствовать о большем количестве низких значений.\n",
        "3. Коэффициент равен 0, что указывает на симметрию вокруг среднего значения.\n",
        "\n",
        "\n",
        "\n",
        "**Эксцесс** измеряет остроту распределения по сравнению с нормальным распределением и показывает, насколько вероятны выбросы в данных.\n",
        "\n",
        "1. Если эксцесс положителен (больше 0), это указывает на более острый пик и более тяжелые хвосты по сравнению с нормальным распределением. Это означает, что в данных больше выбросов.\n",
        "2. Если эксцесс равен 0, это соответствует нормальному распределению, где пики и хвосты находятся на стандартном уровне.\n",
        "3. Если эксцесс отрицателен (меньше 0), это говорит о более плоском пике и легких хвостах, что указывает на меньшую вероятность выбросов."
      ],
      "metadata": {
        "id": "lpyTcQGuiKlx"
      }
    },
    {
      "cell_type": "code",
      "source": [
        "import numpy as np\n",
        "from scipy.stats import kurtosis, skew"
      ],
      "metadata": {
        "id": "-r9TXrodLRYV"
      },
      "execution_count": null,
      "outputs": []
    },
    {
      "cell_type": "code",
      "source": [
        "kurtosis([2,3,5,7,8]), skew([2,3,5,7,8])"
      ],
      "metadata": {
        "colab": {
          "base_uri": "https://localhost:8080/"
        },
        "id": "A4u_j34fR_qh",
        "outputId": "e89ce99f-be75-4fe9-c01c-9fe779279eb0"
      },
      "execution_count": null,
      "outputs": [
        {
          "output_type": "execute_result",
          "data": {
            "text/plain": [
              "(-1.56508875739645, 0.0)"
            ]
          },
          "metadata": {},
          "execution_count": 25
        }
      ]
    },
    {
      "cell_type": "code",
      "source": [
        "kurtosis([2,3,2,5,7,2,2,8]), skew([2,3,2,5,7,2,2,8])"
      ],
      "metadata": {
        "colab": {
          "base_uri": "https://localhost:8080/"
        },
        "id": "GJSj0d2aSD1P",
        "outputId": "d6661d8a-7f12-403c-e0d3-3a7a7d297e2b"
      },
      "execution_count": null,
      "outputs": [
        {
          "output_type": "execute_result",
          "data": {
            "text/plain": [
              "(-1.1002728454980493, 0.7565586244407938)"
            ]
          },
          "metadata": {},
          "execution_count": 26
        }
      ]
    },
    {
      "cell_type": "code",
      "source": [
        "import matplotlib.pyplot as plt\n",
        "import seaborn as sns\n",
        "\n",
        "sns.histplot([2,3,2,5,7,2,2,8], kde=True);"
      ],
      "metadata": {
        "colab": {
          "base_uri": "https://localhost:8080/",
          "height": 430
        },
        "id": "MqHndfgzVjgA",
        "outputId": "2388078b-f1d2-49e7-cad4-a5771a10cadc"
      },
      "execution_count": null,
      "outputs": [
        {
          "output_type": "display_data",
          "data": {
            "text/plain": [
              "<Figure size 640x480 with 1 Axes>"
            ],
            "image/png": "[encoded data removed]"
          },
          "metadata": {}
        }
      ]
    },
    {
      "cell_type": "code",
      "source": [
        "def calculate_moments(data):\n",
        "    # Выборочное среднее\n",
        "    mean = np.mean(data)\n",
        "\n",
        "    # Момент второго порядка (дисперсия)\n",
        "    m2 = np.mean((data - mean) ** 2)\n",
        "\n",
        "    # Момент третьего порядка\n",
        "    m3 = np.mean((data - mean) ** 3)\n",
        "\n",
        "    # Момент четвертого порядка\n",
        "    m4 = np.mean((data - mean) ** 4)\n",
        "\n",
        "    return m2, m3, m4"
      ],
      "metadata": {
        "id": "h8RBpwDUUfG6"
      },
      "execution_count": null,
      "outputs": []
    },
    {
      "cell_type": "code",
      "source": [
        "def calculate_asymmetry_and_kurtosis(data):\n",
        "    m2, m3, m4 = calculate_moments(data)\n",
        "\n",
        "    # Стандартное отклонение\n",
        "    sigma = np.sqrt(m2)\n",
        "\n",
        "    # Коэффициент асимметрии\n",
        "    A3 = m3 / (sigma ** 3)\n",
        "\n",
        "    # Коэффициент эксцесса\n",
        "    E4 = (m4 / (sigma ** 4)) - 3\n",
        "\n",
        "    return A3, E4"
      ],
      "metadata": {
        "id": "SxP7nFRiUiiq"
      },
      "execution_count": null,
      "outputs": []
    },
    {
      "cell_type": "code",
      "source": [
        "# Проверка правильности с использованием функций из scipy\n",
        "def check_results(data):\n",
        "    scipy_skew = skew(data)\n",
        "    scipy_kurtosis = kurtosis(data)\n",
        "\n",
        "    print(f\"Проверка с использованием scipy:\")\n",
        "    print(f\"Коэффициент асимметрии (skew): {scipy_skew}\")\n",
        "    print(f\"Коэффициент эксцесса (kurtosis): {scipy_kurtosis}\")"
      ],
      "metadata": {
        "id": "fi_JPlj2UpL5"
      },
      "execution_count": null,
      "outputs": []
    },
    {
      "cell_type": "code",
      "source": [
        "data = [2, 3, 5, 7, 11, 13, 17, 19]\n",
        "\n",
        "# Вычисление коэффициентов\n",
        "A3, E4 = calculate_asymmetry_and_kurtosis(data)\n",
        "\n",
        "print(f\"Коэффициент асимметрии: {A3}\")\n",
        "print(f\"Коэффициент эксцесса: {E4}\")\n",
        "\n",
        "# Проверка результатов\n",
        "check_results(data)"
      ],
      "metadata": {
        "colab": {
          "base_uri": "https://localhost:8080/"
        },
        "id": "DNMUB9xeUrCF",
        "outputId": "5ea05ebb-9bdd-4952-90be-e76d9163ab8b"
      },
      "execution_count": null,
      "outputs": [
        {
          "output_type": "stream",
          "name": "stdout",
          "text": [
            "Коэффициент асимметрии: 0.24286309509616755\n",
            "Коэффициент эксцесса: -1.3722699105933058\n",
            "Проверка с использованием scipy:\n",
            "Коэффициент асимметрии (skew): 0.24286309509616752\n",
            "Коэффициент эксцесса (kurtosis): -1.372269910593306\n"
          ]
        }
      ]
    },
    {
      "cell_type": "markdown",
      "source": [
        "### Куда и как сдавать работу?\n",
        "\n",
        "По инструкции в гитхаб – https://shy-question-39d.notion.site/1150ea832e418032bfc3d3e827c380fb?pvs=74\n",
        "\n",
        "**Устная защита работ не требуется, но вам могут быть заданы вопросы прямо в вашем пул-реквесте!**"
      ],
      "metadata": {
        "id": "S0lPIXMvB6vb"
      }
    },
    {
      "cell_type": "code",
      "source": [],
      "metadata": {
        "id": "qiQPuwJNwpuk"
      },
      "execution_count": null,
      "outputs": []
    }
  ]
}