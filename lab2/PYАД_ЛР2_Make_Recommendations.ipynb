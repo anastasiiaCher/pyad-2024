{
  "nbformat": 4,
  "nbformat_minor": 0,
  "metadata": {
    "colab": {
      "provenance": [],
      "collapsed_sections": [
        "b36veOGcKbDq",
        "UPEQ3V7iKcsY"
      ]
    },
    "kernelspec": {
      "name": "python3",
      "display_name": "Python 3"
    },
    "language_info": {
      "name": "python"
    }
  },
  "cells": [
    {
      "cell_type": "markdown",
      "source": [
        "## Данные"
      ],
      "metadata": {
        "id": "b36veOGcKbDq"
      }
    },
    {
      "cell_type": "code",
      "source": [
        "!pip install scikit-surprise"
      ],
      "metadata": {
        "colab": {
          "base_uri": "https://localhost:8080/"
        },
        "id": "V1NV01TFLVFV",
        "outputId": "6093853b-8c57-4e1d-b6a4-7154e76cd67d"
      },
      "execution_count": 1,
      "outputs": [
        {
          "output_type": "stream",
          "name": "stdout",
          "text": [
            "Collecting scikit-surprise\n",
            "  Downloading scikit_surprise-1.1.4.tar.gz (154 kB)\n",
            "\u001b[?25l     \u001b[90m━━━━━━━━━━━━━━━━━━━━━━━━━━━━━━━━━━━━━━━━\u001b[0m \u001b[32m0.0/154.4 kB\u001b[0m \u001b[31m?\u001b[0m eta \u001b[36m-:--:--\u001b[0m\r\u001b[2K     \u001b[91m━━━━━━━━━━━━━━━━━━━━━\u001b[0m\u001b[90m╺\u001b[0m\u001b[90m━━━━━━━━━━━━━━━━━━\u001b[0m \u001b[32m81.9/154.4 kB\u001b[0m \u001b[31m2.8 MB/s\u001b[0m eta \u001b[36m0:00:01\u001b[0m\r\u001b[2K     \u001b[90m━━━━━━━━━━━━━━━━━━━━━━━━━━━━━━━━━━━━━━━━\u001b[0m \u001b[32m154.4/154.4 kB\u001b[0m \u001b[31m2.5 MB/s\u001b[0m eta \u001b[36m0:00:00\u001b[0m\n",
            "\u001b[?25h  Installing build dependencies ... \u001b[?25l\u001b[?25hdone\n",
            "  Getting requirements to build wheel ... \u001b[?25l\u001b[?25hdone\n",
            "  Preparing metadata (pyproject.toml) ... \u001b[?25l\u001b[?25hdone\n",
            "Requirement already satisfied: joblib>=1.2.0 in /usr/local/lib/python3.10/dist-packages (from scikit-surprise) (1.4.2)\n",
            "Requirement already satisfied: numpy>=1.19.5 in /usr/local/lib/python3.10/dist-packages (from scikit-surprise) (1.26.4)\n",
            "Requirement already satisfied: scipy>=1.6.0 in /usr/local/lib/python3.10/dist-packages (from scikit-surprise) (1.13.1)\n",
            "Building wheels for collected packages: scikit-surprise\n",
            "  Building wheel for scikit-surprise (pyproject.toml) ... \u001b[?25l\u001b[?25hdone\n",
            "  Created wheel for scikit-surprise: filename=scikit_surprise-1.1.4-cp310-cp310-linux_x86_64.whl size=2357275 sha256=8656f1b14cf2f7e718e2efd7e996af69c9b47210773a0684c3f8c4ad198f4491\n",
            "  Stored in directory: /root/.cache/pip/wheels/4b/3f/df/6acbf0a40397d9bf3ff97f582cc22fb9ce66adde75bc71fd54\n",
            "Successfully built scikit-surprise\n",
            "Installing collected packages: scikit-surprise\n",
            "Successfully installed scikit-surprise-1.1.4\n"
          ]
        }
      ]
    },
    {
      "cell_type": "code",
      "source": [
        "!gdown 1Hliaee7Y584-7lMoGeGjGabRRubzdoYn\n",
        "!gdown 1JYpk5GTzK7GWT3mtDb9fNiwaVTzk8BBy"
      ],
      "metadata": {
        "colab": {
          "base_uri": "https://localhost:8080/"
        },
        "id": "xd8n6y_ALW5L",
        "outputId": "c76d2845-3049-4355-c076-3af1a335fc2d"
      },
      "execution_count": 2,
      "outputs": [
        {
          "output_type": "stream",
          "name": "stdout",
          "text": [
            "Downloading...\n",
            "From: https://drive.google.com/uc?id=1Hliaee7Y584-7lMoGeGjGabRRubzdoYn\n",
            "To: /content/Ratings.csv\n",
            "100% 22.6M/22.6M [00:00<00:00, 57.6MB/s]\n",
            "Downloading...\n",
            "From: https://drive.google.com/uc?id=1JYpk5GTzK7GWT3mtDb9fNiwaVTzk8BBy\n",
            "To: /content/Books.csv\n",
            "100% 73.3M/73.3M [00:00<00:00, 79.6MB/s]\n"
          ]
        }
      ]
    },
    {
      "cell_type": "code",
      "source": [
        "import pandas as pd\n",
        "import numpy as np\n",
        "import matplotlib.pyplot as plt\n",
        "import seaborn as sns\n",
        "\n",
        "from scipy.sparse import csr_matrix, hstack\n",
        "from sklearn.model_selection import train_test_split\n",
        "from sklearn.linear_model import SGDRegressor\n",
        "from sklearn.preprocessing import StandardScaler\n",
        "from sklearn.feature_extraction.text import TfidfVectorizer\n",
        "from sklearn.metrics import mean_absolute_error\n",
        "from surprise import Dataset, Reader, SVD\n",
        "from surprise.model_selection import cross_validate, train_test_split as surprise_train_test_split\n",
        "\n",
        "import joblib"
      ],
      "metadata": {
        "id": "mJw71WTxLD5_"
      },
      "execution_count": 3,
      "outputs": []
    },
    {
      "cell_type": "code",
      "source": [
        "ratings = pd.read_csv(\"Ratings.csv\")\n",
        "books = pd.read_csv(\"Books.csv\")"
      ],
      "metadata": {
        "colab": {
          "base_uri": "https://localhost:8080/"
        },
        "id": "dYXjUAUGLhge",
        "outputId": "4773c859-fe98-48fd-ba62-73267bd73e25"
      },
      "execution_count": 4,
      "outputs": [
        {
          "output_type": "stream",
          "name": "stderr",
          "text": [
            "<ipython-input-4-b20246700688>:2: DtypeWarning: Columns (3) have mixed types. Specify dtype option on import or set low_memory=False.\n",
            "  books = pd.read_csv(\"Books.csv\")\n"
          ]
        }
      ]
    },
    {
      "cell_type": "markdown",
      "source": [
        "## Обработка данных"
      ],
      "metadata": {
        "id": "UPEQ3V7iKcsY"
      }
    },
    {
      "cell_type": "code",
      "source": [
        "# Преобразуем тип года к числовому\n",
        "books[\"Year-Of-Publication\"] = pd.to_numeric(books[\"Year-Of-Publication\"], errors='coerce')\n",
        "\n",
        "# Удалим строки с нереалистичными годами\n",
        "books = books[(books[\"Year-Of-Publication\"] > 0) & (books[\"Year-Of-Publication\"] <= 2024)]\n",
        "\n",
        "# Удалим строки с пропусками в авторах/издателях\n",
        "books = books.dropna(subset=[\"Book-Author\", \"Publisher\"])\n",
        "\n",
        "# Удалим колонки с картинками\n",
        "cols_to_drop = [\"Image-URL-S\", \"Image-URL-M\", \"Image-URL-L\"]\n",
        "for c in cols_to_drop:\n",
        "    if c in books.columns:\n",
        "        books.drop(columns=[c], inplace=True, errors='ignore')"
      ],
      "metadata": {
        "id": "Xm_-mmNVMQBE",
        "colab": {
          "base_uri": "https://localhost:8080/"
        },
        "outputId": "5c5ecc73-608f-4556-f9f4-039454fa7e9a"
      },
      "execution_count": 5,
      "outputs": [
        {
          "output_type": "stream",
          "name": "stderr",
          "text": [
            "<ipython-input-5-8a0330fc5768>:14: SettingWithCopyWarning: \n",
            "A value is trying to be set on a copy of a slice from a DataFrame\n",
            "\n",
            "See the caveats in the documentation: https://pandas.pydata.org/pandas-docs/stable/user_guide/indexing.html#returning-a-view-versus-a-copy\n",
            "  books.drop(columns=[c], inplace=True, errors='ignore')\n",
            "<ipython-input-5-8a0330fc5768>:14: SettingWithCopyWarning: \n",
            "A value is trying to be set on a copy of a slice from a DataFrame\n",
            "\n",
            "See the caveats in the documentation: https://pandas.pydata.org/pandas-docs/stable/user_guide/indexing.html#returning-a-view-versus-a-copy\n",
            "  books.drop(columns=[c], inplace=True, errors='ignore')\n"
          ]
        }
      ]
    },
    {
      "cell_type": "code",
      "source": [
        "# Проверим наличие пропусков\n",
        "books.isnull().sum()\n"
      ],
      "metadata": {
        "colab": {
          "base_uri": "https://localhost:8080/",
          "height": 0
        },
        "id": "nVaDbNxyQRo9",
        "outputId": "59038ffb-f13d-429e-e5ef-efc1ffdec0d6"
      },
      "execution_count": 6,
      "outputs": [
        {
          "output_type": "execute_result",
          "data": {
            "text/plain": [
              "ISBN                   0\n",
              "Book-Title             0\n",
              "Book-Author            0\n",
              "Year-Of-Publication    0\n",
              "Publisher              0\n",
              "dtype: int64"
            ],
            "text/html": [
              "<div>\n",
              "<style scoped>\n",
              "    .dataframe tbody tr th:only-of-type {\n",
              "        vertical-align: middle;\n",
              "    }\n",
              "\n",
              "    .dataframe tbody tr th {\n",
              "        vertical-align: top;\n",
              "    }\n",
              "\n",
              "    .dataframe thead th {\n",
              "        text-align: right;\n",
              "    }\n",
              "</style>\n",
              "<table border=\"1\" class=\"dataframe\">\n",
              "  <thead>\n",
              "    <tr style=\"text-align: right;\">\n",
              "      <th></th>\n",
              "      <th>0</th>\n",
              "    </tr>\n",
              "  </thead>\n",
              "  <tbody>\n",
              "    <tr>\n",
              "      <th>ISBN</th>\n",
              "      <td>0</td>\n",
              "    </tr>\n",
              "    <tr>\n",
              "      <th>Book-Title</th>\n",
              "      <td>0</td>\n",
              "    </tr>\n",
              "    <tr>\n",
              "      <th>Book-Author</th>\n",
              "      <td>0</td>\n",
              "    </tr>\n",
              "    <tr>\n",
              "      <th>Year-Of-Publication</th>\n",
              "      <td>0</td>\n",
              "    </tr>\n",
              "    <tr>\n",
              "      <th>Publisher</th>\n",
              "      <td>0</td>\n",
              "    </tr>\n",
              "  </tbody>\n",
              "</table>\n",
              "</div><br><label><b>dtype:</b> int64</label>"
            ]
          },
          "metadata": {},
          "execution_count": 6
        }
      ]
    },
    {
      "cell_type": "code",
      "source": [
        "# Отберем рейтинги > 0\n",
        "train_ratings = ratings[ratings[\"Book-Rating\"] > 0].copy()\n",
        "\n",
        "# Посчитаем количество оценок на книгу\n",
        "book_counts = train_ratings[\"ISBN\"].value_counts()\n",
        "valid_books = book_counts[book_counts > 1].index\n",
        "\n",
        "# Посчитаем количество оценок на пользователя\n",
        "user_counts = train_ratings[\"User-ID\"].value_counts()\n",
        "valid_users = user_counts[user_counts > 1].index\n",
        "\n",
        "train_ratings = train_ratings[train_ratings[\"ISBN\"].isin(valid_books)]\n",
        "train_ratings = train_ratings[train_ratings[\"User-ID\"].isin(valid_users)]\n",
        "\n",
        "# Отфильтруем таблицу книг под те ISBN, что остались\n",
        "books = books[books[\"ISBN\"].isin(train_ratings[\"ISBN\"].unique())]"
      ],
      "metadata": {
        "id": "F6kjcAm8Qi-o"
      },
      "execution_count": 7,
      "outputs": []
    },
    {
      "cell_type": "markdown",
      "source": [
        "## Обучение SVD"
      ],
      "metadata": {
        "id": "y3aBqtLtQrTQ"
      }
    },
    {
      "cell_type": "code",
      "source": [
        "reader = Reader(rating_scale=(1, 10))\n",
        "data = Dataset.load_from_df(train_ratings[[\"User-ID\", \"ISBN\", \"Book-Rating\"]], reader)\n",
        "\n",
        "trainset, testset = surprise_train_test_split(data, test_size=0.2, random_state=42)\n",
        "\n",
        "model_svd = SVD(random_state=42)\n",
        "model_svd.fit(trainset)\n",
        "\n",
        "predictions = model_svd.test(testset)\n",
        "\n",
        "# Оценим качество по MAE\n",
        "from surprise import accuracy\n",
        "mae = accuracy.mae(predictions)\n",
        "print(\"MAE SVD:\", mae)\n",
        "\n",
        "# Требование: MAE < 1.3"
      ],
      "metadata": {
        "colab": {
          "base_uri": "https://localhost:8080/"
        },
        "id": "NAuXRa-oQtpf",
        "outputId": "1d428d84-1614-4139-d690-bc0aaf0dc8a2"
      },
      "execution_count": 8,
      "outputs": [
        {
          "output_type": "stream",
          "name": "stdout",
          "text": [
            "MAE:  1.2541\n",
            "MAE SVD: 1.2541457963741103\n"
          ]
        }
      ]
    },
    {
      "cell_type": "code",
      "source": [
        "joblib.dump(model_svd, \"svd_model.pkl\")"
      ],
      "metadata": {
        "colab": {
          "base_uri": "https://localhost:8080/"
        },
        "id": "pEyT24zCQvy6",
        "outputId": "a75861ff-da47-4302-d43a-7a1016881d1d"
      },
      "execution_count": 9,
      "outputs": [
        {
          "output_type": "execute_result",
          "data": {
            "text/plain": [
              "['svd_model.pkl']"
            ]
          },
          "metadata": {},
          "execution_count": 9
        }
      ]
    },
    {
      "cell_type": "markdown",
      "source": [
        "## Обучение линейной регрессии\n",
        "\n",
        "Для обучения предсказанию среднего рейтинга книги нужны:\n",
        "\n",
        "- Автор\n",
        "- Издатель\n",
        "- Год издания\n",
        "- Векторизованное название\n"
      ],
      "metadata": {
        "id": "II6PZfHWR21O"
      }
    },
    {
      "cell_type": "markdown",
      "source": [
        "Сначала вычислим средний рейтинг для каждой книги"
      ],
      "metadata": {
        "id": "Z57ct-yFR4_s"
      }
    },
    {
      "cell_type": "code",
      "source": [
        "book_mean_ratings = train_ratings.groupby(\"ISBN\")[\"Book-Rating\"].mean().reset_index(name=\"mean_rating\")\n",
        "books_merge = pd.merge(books, book_mean_ratings, on=\"ISBN\", how=\"inner\")\n",
        "\n",
        "books_merge.head()"
      ],
      "metadata": {
        "colab": {
          "base_uri": "https://localhost:8080/",
          "height": 206
        },
        "id": "SNZ9evFiR5Sc",
        "outputId": "948aec85-00a8-4647-90e9-e8b2acc58b89"
      },
      "execution_count": 10,
      "outputs": [
        {
          "output_type": "execute_result",
          "data": {
            "text/plain": [
              "         ISBN                                         Book-Title  \\\n",
              "0  0002005018                                       Clara Callan   \n",
              "1  0060973129                               Decision in Normandy   \n",
              "2  0374157065  Flu: The Story of the Great Influenza Pandemic...   \n",
              "3  0399135782                             The Kitchen God's Wife   \n",
              "4  1558746218  A Second Chicken Soup for the Woman's Soul (Ch...   \n",
              "\n",
              "            Book-Author  Year-Of-Publication              Publisher  \\\n",
              "0  Richard Bruce Wright               2001.0  HarperFlamingo Canada   \n",
              "1          Carlo D'Este               1991.0        HarperPerennial   \n",
              "2      Gina Bari Kolata               1999.0   Farrar Straus Giroux   \n",
              "3               Amy Tan               1991.0       Putnam Pub Group   \n",
              "4         Jack Canfield               1998.0  Health Communications   \n",
              "\n",
              "   mean_rating  \n",
              "0     7.500000  \n",
              "1     7.500000  \n",
              "2     7.833333  \n",
              "3     8.285714  \n",
              "4    10.000000  "
            ],
            "text/html": [
              "\n",
              "  <div id=\"df-a1c52b8b-751d-4920-8039-9a0af4bb06ca\" class=\"colab-df-container\">\n",
              "    <div>\n",
              "<style scoped>\n",
              "    .dataframe tbody tr th:only-of-type {\n",
              "        vertical-align: middle;\n",
              "    }\n",
              "\n",
              "    .dataframe tbody tr th {\n",
              "        vertical-align: top;\n",
              "    }\n",
              "\n",
              "    .dataframe thead th {\n",
              "        text-align: right;\n",
              "    }\n",
              "</style>\n",
              "<table border=\"1\" class=\"dataframe\">\n",
              "  <thead>\n",
              "    <tr style=\"text-align: right;\">\n",
              "      <th></th>\n",
              "      <th>ISBN</th>\n",
              "      <th>Book-Title</th>\n",
              "      <th>Book-Author</th>\n",
              "      <th>Year-Of-Publication</th>\n",
              "      <th>Publisher</th>\n",
              "      <th>mean_rating</th>\n",
              "    </tr>\n",
              "  </thead>\n",
              "  <tbody>\n",
              "    <tr>\n",
              "      <th>0</th>\n",
              "      <td>0002005018</td>\n",
              "      <td>Clara Callan</td>\n",
              "      <td>Richard Bruce Wright</td>\n",
              "      <td>2001.0</td>\n",
              "      <td>HarperFlamingo Canada</td>\n",
              "      <td>7.500000</td>\n",
              "    </tr>\n",
              "    <tr>\n",
              "      <th>1</th>\n",
              "      <td>0060973129</td>\n",
              "      <td>Decision in Normandy</td>\n",
              "      <td>Carlo D'Este</td>\n",
              "      <td>1991.0</td>\n",
              "      <td>HarperPerennial</td>\n",
              "      <td>7.500000</td>\n",
              "    </tr>\n",
              "    <tr>\n",
              "      <th>2</th>\n",
              "      <td>0374157065</td>\n",
              "      <td>Flu: The Story of the Great Influenza Pandemic...</td>\n",
              "      <td>Gina Bari Kolata</td>\n",
              "      <td>1999.0</td>\n",
              "      <td>Farrar Straus Giroux</td>\n",
              "      <td>7.833333</td>\n",
              "    </tr>\n",
              "    <tr>\n",
              "      <th>3</th>\n",
              "      <td>0399135782</td>\n",
              "      <td>The Kitchen God's Wife</td>\n",
              "      <td>Amy Tan</td>\n",
              "      <td>1991.0</td>\n",
              "      <td>Putnam Pub Group</td>\n",
              "      <td>8.285714</td>\n",
              "    </tr>\n",
              "    <tr>\n",
              "      <th>4</th>\n",
              "      <td>1558746218</td>\n",
              "      <td>A Second Chicken Soup for the Woman's Soul (Ch...</td>\n",
              "      <td>Jack Canfield</td>\n",
              "      <td>1998.0</td>\n",
              "      <td>Health Communications</td>\n",
              "      <td>10.000000</td>\n",
              "    </tr>\n",
              "  </tbody>\n",
              "</table>\n",
              "</div>\n",
              "    <div class=\"colab-df-buttons\">\n",
              "\n",
              "  <div class=\"colab-df-container\">\n",
              "    <button class=\"colab-df-convert\" onclick=\"convertToInteractive('df-a1c52b8b-751d-4920-8039-9a0af4bb06ca')\"\n",
              "            title=\"Convert this dataframe to an interactive table.\"\n",
              "            style=\"display:none;\">\n",
              "\n",
              "  <svg xmlns=\"http://www.w3.org/2000/svg\" height=\"24px\" viewBox=\"0 -960 960 960\">\n",
              "    <path d=\"M120-120v-720h720v720H120Zm60-500h600v-160H180v160Zm220 220h160v-160H400v160Zm0 220h160v-160H400v160ZM180-400h160v-160H180v160Zm440 0h160v-160H620v160ZM180-180h160v-160H180v160Zm440 0h160v-160H620v160Z\"/>\n",
              "  </svg>\n",
              "    </button>\n",
              "\n",
              "  <style>\n",
              "    .colab-df-container {\n",
              "      display:flex;\n",
              "      gap: 12px;\n",
              "    }\n",
              "\n",
              "    .colab-df-convert {\n",
              "      background-color: #E8F0FE;\n",
              "      border: none;\n",
              "      border-radius: 50%;\n",
              "      cursor: pointer;\n",
              "      display: none;\n",
              "      fill: #1967D2;\n",
              "      height: 32px;\n",
              "      padding: 0 0 0 0;\n",
              "      width: 32px;\n",
              "    }\n",
              "\n",
              "    .colab-df-convert:hover {\n",
              "      background-color: #E2EBFA;\n",
              "      box-shadow: 0px 1px 2px rgba(60, 64, 67, 0.3), 0px 1px 3px 1px rgba(60, 64, 67, 0.15);\n",
              "      fill: #174EA6;\n",
              "    }\n",
              "\n",
              "    .colab-df-buttons div {\n",
              "      margin-bottom: 4px;\n",
              "    }\n",
              "\n",
              "    [theme=dark] .colab-df-convert {\n",
              "      background-color: #3B4455;\n",
              "      fill: #D2E3FC;\n",
              "    }\n",
              "\n",
              "    [theme=dark] .colab-df-convert:hover {\n",
              "      background-color: #434B5C;\n",
              "      box-shadow: 0px 1px 3px 1px rgba(0, 0, 0, 0.15);\n",
              "      filter: drop-shadow(0px 1px 2px rgba(0, 0, 0, 0.3));\n",
              "      fill: #FFFFFF;\n",
              "    }\n",
              "  </style>\n",
              "\n",
              "    <script>\n",
              "      const buttonEl =\n",
              "        document.querySelector('#df-a1c52b8b-751d-4920-8039-9a0af4bb06ca button.colab-df-convert');\n",
              "      buttonEl.style.display =\n",
              "        google.colab.kernel.accessAllowed ? 'block' : 'none';\n",
              "\n",
              "      async function convertToInteractive(key) {\n",
              "        const element = document.querySelector('#df-a1c52b8b-751d-4920-8039-9a0af4bb06ca');\n",
              "        const dataTable =\n",
              "          await google.colab.kernel.invokeFunction('convertToInteractive',\n",
              "                                                    [key], {});\n",
              "        if (!dataTable) return;\n",
              "\n",
              "        const docLinkHtml = 'Like what you see? Visit the ' +\n",
              "          '<a target=\"_blank\" href=https://colab.research.google.com/notebooks/data_table.ipynb>data table notebook</a>'\n",
              "          + ' to learn more about interactive tables.';\n",
              "        element.innerHTML = '';\n",
              "        dataTable['output_type'] = 'display_data';\n",
              "        await google.colab.output.renderOutput(dataTable, element);\n",
              "        const docLink = document.createElement('div');\n",
              "        docLink.innerHTML = docLinkHtml;\n",
              "        element.appendChild(docLink);\n",
              "      }\n",
              "    </script>\n",
              "  </div>\n",
              "\n",
              "\n",
              "<div id=\"df-44298a9c-d5d0-4269-890a-948c4d40653a\">\n",
              "  <button class=\"colab-df-quickchart\" onclick=\"quickchart('df-44298a9c-d5d0-4269-890a-948c4d40653a')\"\n",
              "            title=\"Suggest charts\"\n",
              "            style=\"display:none;\">\n",
              "\n",
              "<svg xmlns=\"http://www.w3.org/2000/svg\" height=\"24px\"viewBox=\"0 0 24 24\"\n",
              "     width=\"24px\">\n",
              "    <g>\n",
              "        <path d=\"M19 3H5c-1.1 0-2 .9-2 2v14c0 1.1.9 2 2 2h14c1.1 0 2-.9 2-2V5c0-1.1-.9-2-2-2zM9 17H7v-7h2v7zm4 0h-2V7h2v10zm4 0h-2v-4h2v4z\"/>\n",
              "    </g>\n",
              "</svg>\n",
              "  </button>\n",
              "\n",
              "<style>\n",
              "  .colab-df-quickchart {\n",
              "      --bg-color: #E8F0FE;\n",
              "      --fill-color: #1967D2;\n",
              "      --hover-bg-color: #E2EBFA;\n",
              "      --hover-fill-color: #174EA6;\n",
              "      --disabled-fill-color: #AAA;\n",
              "      --disabled-bg-color: #DDD;\n",
              "  }\n",
              "\n",
              "  [theme=dark] .colab-df-quickchart {\n",
              "      --bg-color: #3B4455;\n",
              "      --fill-color: #D2E3FC;\n",
              "      --hover-bg-color: #434B5C;\n",
              "      --hover-fill-color: #FFFFFF;\n",
              "      --disabled-bg-color: #3B4455;\n",
              "      --disabled-fill-color: #666;\n",
              "  }\n",
              "\n",
              "  .colab-df-quickchart {\n",
              "    background-color: var(--bg-color);\n",
              "    border: none;\n",
              "    border-radius: 50%;\n",
              "    cursor: pointer;\n",
              "    display: none;\n",
              "    fill: var(--fill-color);\n",
              "    height: 32px;\n",
              "    padding: 0;\n",
              "    width: 32px;\n",
              "  }\n",
              "\n",
              "  .colab-df-quickchart:hover {\n",
              "    background-color: var(--hover-bg-color);\n",
              "    box-shadow: 0 1px 2px rgba(60, 64, 67, 0.3), 0 1px 3px 1px rgba(60, 64, 67, 0.15);\n",
              "    fill: var(--button-hover-fill-color);\n",
              "  }\n",
              "\n",
              "  .colab-df-quickchart-complete:disabled,\n",
              "  .colab-df-quickchart-complete:disabled:hover {\n",
              "    background-color: var(--disabled-bg-color);\n",
              "    fill: var(--disabled-fill-color);\n",
              "    box-shadow: none;\n",
              "  }\n",
              "\n",
              "  .colab-df-spinner {\n",
              "    border: 2px solid var(--fill-color);\n",
              "    border-color: transparent;\n",
              "    border-bottom-color: var(--fill-color);\n",
              "    animation:\n",
              "      spin 1s steps(1) infinite;\n",
              "  }\n",
              "\n",
              "  @keyframes spin {\n",
              "    0% {\n",
              "      border-color: transparent;\n",
              "      border-bottom-color: var(--fill-color);\n",
              "      border-left-color: var(--fill-color);\n",
              "    }\n",
              "    20% {\n",
              "      border-color: transparent;\n",
              "      border-left-color: var(--fill-color);\n",
              "      border-top-color: var(--fill-color);\n",
              "    }\n",
              "    30% {\n",
              "      border-color: transparent;\n",
              "      border-left-color: var(--fill-color);\n",
              "      border-top-color: var(--fill-color);\n",
              "      border-right-color: var(--fill-color);\n",
              "    }\n",
              "    40% {\n",
              "      border-color: transparent;\n",
              "      border-right-color: var(--fill-color);\n",
              "      border-top-color: var(--fill-color);\n",
              "    }\n",
              "    60% {\n",
              "      border-color: transparent;\n",
              "      border-right-color: var(--fill-color);\n",
              "    }\n",
              "    80% {\n",
              "      border-color: transparent;\n",
              "      border-right-color: var(--fill-color);\n",
              "      border-bottom-color: var(--fill-color);\n",
              "    }\n",
              "    90% {\n",
              "      border-color: transparent;\n",
              "      border-bottom-color: var(--fill-color);\n",
              "    }\n",
              "  }\n",
              "</style>\n",
              "\n",
              "  <script>\n",
              "    async function quickchart(key) {\n",
              "      const quickchartButtonEl =\n",
              "        document.querySelector('#' + key + ' button');\n",
              "      quickchartButtonEl.disabled = true;  // To prevent multiple clicks.\n",
              "      quickchartButtonEl.classList.add('colab-df-spinner');\n",
              "      try {\n",
              "        const charts = await google.colab.kernel.invokeFunction(\n",
              "            'suggestCharts', [key], {});\n",
              "      } catch (error) {\n",
              "        console.error('Error during call to suggestCharts:', error);\n",
              "      }\n",
              "      quickchartButtonEl.classList.remove('colab-df-spinner');\n",
              "      quickchartButtonEl.classList.add('colab-df-quickchart-complete');\n",
              "    }\n",
              "    (() => {\n",
              "      let quickchartButtonEl =\n",
              "        document.querySelector('#df-44298a9c-d5d0-4269-890a-948c4d40653a button');\n",
              "      quickchartButtonEl.style.display =\n",
              "        google.colab.kernel.accessAllowed ? 'block' : 'none';\n",
              "    })();\n",
              "  </script>\n",
              "</div>\n",
              "    </div>\n",
              "  </div>\n"
            ],
            "application/vnd.google.colaboratory.intrinsic+json": {
              "type": "dataframe",
              "variable_name": "books_merge",
              "summary": "{\n  \"name\": \"books_merge\",\n  \"rows\": 49125,\n  \"fields\": [\n    {\n      \"column\": \"ISBN\",\n      \"properties\": {\n        \"dtype\": \"string\",\n        \"num_unique_values\": 49125,\n        \"samples\": [\n          \"0671004530\",\n          \"0373031572\",\n          \"0812551206\"\n        ],\n        \"semantic_type\": \"\",\n        \"description\": \"\"\n      }\n    },\n    {\n      \"column\": \"Book-Title\",\n      \"properties\": {\n        \"dtype\": \"string\",\n        \"num_unique_values\": 44018,\n        \"samples\": [\n          \"Uncivil Seasons: A Novel\",\n          \"The Case of the Musical Cow (Perry Mason Mysteries (House of Stratus))\",\n          \"James Herriot's Cat Stories\"\n        ],\n        \"semantic_type\": \"\",\n        \"description\": \"\"\n      }\n    },\n    {\n      \"column\": \"Book-Author\",\n      \"properties\": {\n        \"dtype\": \"category\",\n        \"num_unique_values\": 18530,\n        \"samples\": [\n          \"Albert-Laszlo Barabasi\",\n          \"Mario Batali\",\n          \"JOHN O'FARRELL\"\n        ],\n        \"semantic_type\": \"\",\n        \"description\": \"\"\n      }\n    },\n    {\n      \"column\": \"Year-Of-Publication\",\n      \"properties\": {\n        \"dtype\": \"number\",\n        \"std\": 7.388441339259906,\n        \"min\": 1902.0,\n        \"max\": 2021.0,\n        \"num_unique_values\": 80,\n        \"samples\": [\n          1941.0,\n          2001.0,\n          1984.0\n        ],\n        \"semantic_type\": \"\",\n        \"description\": \"\"\n      }\n    },\n    {\n      \"column\": \"Publisher\",\n      \"properties\": {\n        \"dtype\": \"category\",\n        \"num_unique_values\": 3477,\n        \"samples\": [\n          \"Jos\\u00c3?\\u00c2\\u00a9 Corti\",\n          \"Bibliographical Society of University of Virg\",\n          \"Workman Pub Co\"\n        ],\n        \"semantic_type\": \"\",\n        \"description\": \"\"\n      }\n    },\n    {\n      \"column\": \"mean_rating\",\n      \"properties\": {\n        \"dtype\": \"number\",\n        \"std\": 1.2594903223978973,\n        \"min\": 1.0,\n        \"max\": 10.0,\n        \"num_unique_values\": 1262,\n        \"samples\": [\n          5.7,\n          8.035087719298245,\n          8.90625\n        ],\n        \"semantic_type\": \"\",\n        \"description\": \"\"\n      }\n    }\n  ]\n}"
            }
          },
          "metadata": {},
          "execution_count": 10
        }
      ]
    },
    {
      "cell_type": "markdown",
      "source": [
        "Векторизация названий"
      ],
      "metadata": {
        "id": "4AsqR6rXSGSS"
      }
    },
    {
      "cell_type": "code",
      "source": [
        "vectorizer = TfidfVectorizer(stop_words=\"english\", max_features=1000)\n",
        "title_vectors = vectorizer.fit_transform(books_merge[\"Book-Title\"].fillna(\"\"))"
      ],
      "metadata": {
        "id": "Zkx1uBEpSHHv"
      },
      "execution_count": 11,
      "outputs": []
    },
    {
      "cell_type": "markdown",
      "source": [
        "Преобразование авторов и издателей"
      ],
      "metadata": {
        "id": "kCN6m_cbV2eA"
      }
    },
    {
      "cell_type": "code",
      "source": [
        "authors = pd.get_dummies(books_merge[\"Book-Author\"], prefix=\"author\", sparse=True)\n",
        "publishers = pd.get_dummies(books_merge[\"Publisher\"], prefix=\"pub\", sparse=True)\n",
        "\n",
        "authors_sparse = authors.sparse.to_coo()\n",
        "publishers_sparse = publishers.sparse.to_coo()"
      ],
      "metadata": {
        "id": "f8BzE-OtV3Ln"
      },
      "execution_count": 12,
      "outputs": []
    },
    {
      "cell_type": "markdown",
      "source": [
        "Признак года издания"
      ],
      "metadata": {
        "id": "EsJR4lyJV6Pn"
      }
    },
    {
      "cell_type": "code",
      "source": [
        "years = books_merge[\"Year-Of-Publication\"].values.reshape(-1, 1)\n",
        "\n",
        "scaler = StandardScaler()\n",
        "years_scaled = scaler.fit_transform(years)"
      ],
      "metadata": {
        "id": "RNyl3ZjWV8v4"
      },
      "execution_count": 13,
      "outputs": []
    },
    {
      "cell_type": "markdown",
      "source": [
        "Объединение всех фич"
      ],
      "metadata": {
        "id": "3A-t4ymvWmxq"
      }
    },
    {
      "cell_type": "code",
      "source": [
        "years_sparse = csr_matrix(years_scaled)\n",
        "X_sparse = hstack([title_vectors, authors_sparse, publishers_sparse, years_sparse], format='csr')\n",
        "\n",
        "y = books_merge[\"mean_rating\"].values"
      ],
      "metadata": {
        "id": "TkqnKM49WoNv"
      },
      "execution_count": 14,
      "outputs": []
    },
    {
      "cell_type": "markdown",
      "source": [
        "Разбиение на трейн/тест"
      ],
      "metadata": {
        "id": "29wQUlg_Wvl9"
      }
    },
    {
      "cell_type": "code",
      "source": [
        "X_train, X_test, y_train, y_test = train_test_split(X_sparse, y, test_size=0.2, random_state=42)"
      ],
      "metadata": {
        "id": "dSPTDo_BWwZQ"
      },
      "execution_count": 15,
      "outputs": []
    },
    {
      "cell_type": "markdown",
      "source": [
        "Обучение линейной модели"
      ],
      "metadata": {
        "id": "wRpqxRtqWxjZ"
      }
    },
    {
      "cell_type": "code",
      "source": [
        "linreg = SGDRegressor(random_state=42, max_iter=1000, tol=1e-3)\n",
        "linreg.fit(X_train, y_train)\n",
        "\n",
        "y_pred = linreg.predict(X_test)\n",
        "mae_linreg = mean_absolute_error(y_test, y_pred)\n",
        "print(\"MAE LinReg:\", mae_linreg)\n",
        "\n",
        "# Требование: MAE < 1.5"
      ],
      "metadata": {
        "colab": {
          "base_uri": "https://localhost:8080/"
        },
        "id": "rj_0G2PjWyJw",
        "outputId": "9de601e2-c818-4818-9103-23a57033827b"
      },
      "execution_count": 16,
      "outputs": [
        {
          "output_type": "stream",
          "name": "stdout",
          "text": [
            "MAE LinReg: 0.9945953571060524\n"
          ]
        }
      ]
    },
    {
      "cell_type": "markdown",
      "source": [
        "Сохранение модели и масштабатора"
      ],
      "metadata": {
        "id": "oFZWhh8zSLwI"
      }
    },
    {
      "cell_type": "code",
      "source": [
        "joblib.dump(linreg, \"linreg_model.pkl\")\n",
        "joblib.dump(scaler, \"scaler.pkl\")\n",
        "joblib.dump(vectorizer, \"vectorizer.pkl\")\n",
        "joblib.dump(authors.columns, \"authors_columns.pkl\")\n",
        "joblib.dump(publishers.columns, \"publishers_columns.pkl\")"
      ],
      "metadata": {
        "colab": {
          "base_uri": "https://localhost:8080/"
        },
        "id": "thnsa4y7SLee",
        "outputId": "399d1fac-9581-4360-c77b-5aeca031b78e"
      },
      "execution_count": 17,
      "outputs": [
        {
          "output_type": "execute_result",
          "data": {
            "text/plain": [
              "['publishers_columns.pkl']"
            ]
          },
          "metadata": {},
          "execution_count": 17
        }
      ]
    }
  ]
}